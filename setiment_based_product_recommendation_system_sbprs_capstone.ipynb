{
 "cells": [
  {
   "cell_type": "markdown",
   "metadata": {
    "id": "GIvcxCtzKbhm"
   },
   "source": [
    "# Problem Statment "
   ]
  },
  {
   "cell_type": "markdown",
   "metadata": {
    "id": "dfxzIToubNui"
   },
   "source": [
    "The e-commerce business is quite popular today. Here, you do not need to take orders by going to each customer. A company launches its website to sell the items to the end consumer, and customers can order the products that they require from the same website. Famous examples of such e-commerce companies are Amazon, Flipkart, Myntra, Paytm and Snapdeal.\n",
    "\n",
    " \n",
    "\n",
    "Suppose you are working as a Machine Learning Engineer in an e-commerce company named 'Ebuss'. Ebuss has captured a huge market share in many fields, and it sells the products in various categories such as household essentials, books, personal care products, medicines, cosmetic items, beauty products, electrical appliances, kitchen and dining products and health care products.\n",
    "\n",
    " \n",
    "\n",
    "With the advancement in technology, it is imperative for Ebuss to grow quickly in the e-commerce market to become a major leader in the market because it has to compete with the likes of Amazon, Flipkart, etc., which are already market leaders.\n",
    "\n",
    " \n",
    "\n",
    "As a senior ML Engineer, you are asked to build a model that will improve the recommendations given to the users given their past reviews and ratings. \n",
    "\n",
    " \n",
    "\n",
    "In order to do this, you planned to build a sentiment-based product recommendation system, which includes the following tasks.\n",
    "\n",
    "   1. Data sourcing and sentiment analysis\n",
    "   2. Building a recommendation system\n",
    "   3. Improving the recommendations using the sentiment analysis model\n",
    "   4. Deploying the end-to-end project with a user interface"
   ]
  },
  {
   "cell_type": "markdown",
   "metadata": {
    "id": "J8y72HkLbmy0"
   },
   "source": [
    "Steps involved in the project \n",
    "1. Exploratory data analysis\n",
    "2. Data cleaning\n",
    "3. Text preprocessing\n",
    "4. Feature extraction \n",
    "4. Training the text classification model\n",
    "5. Creating a recommedation systems (User based and Item Based choose the bestone)\n",
    "6. Evaluating the model and recommedation system using the Test data \n",
    "7. Create flask application \n",
    "8. Deploy the application to heroku platform "
   ]
  },
  {
   "cell_type": "code",
   "execution_count": 2,
   "metadata": {
    "executionInfo": {
     "elapsed": 2469,
     "status": "ok",
     "timestamp": 1645887143990,
     "user": {
      "displayName": "Rizwan Ahmad",
      "photoUrl": "https://lh3.googleusercontent.com/a-/AOh14GgtPJUYELe4Sy9438Rs3-SuiOjqkt-H9xUsvAdC=s64",
      "userId": "15556863955443815182"
     },
     "user_tz": -330
    },
    "id": "raiQMM89_7no"
   },
   "outputs": [
    {
     "name": "stdout",
     "output_type": "stream",
     "text": [
      "Note: you may need to restart the kernel to use updated packages.\n"
     ]
    }
   ],
   "source": [
    "pip freeze > requirement.txt"
   ]
  },
  {
   "cell_type": "code",
   "execution_count": 3,
   "metadata": {
    "colab": {
     "base_uri": "https://localhost:8080/"
    },
    "executionInfo": {
     "elapsed": 20344,
     "status": "ok",
     "timestamp": 1645887482231,
     "user": {
      "displayName": "Rizwan Ahmad",
      "photoUrl": "https://lh3.googleusercontent.com/a-/AOh14GgtPJUYELe4Sy9438Rs3-SuiOjqkt-H9xUsvAdC=s64",
      "userId": "15556863955443815182"
     },
     "user_tz": -330
    },
    "id": "-7QJiWAibU8m",
    "outputId": "9d78dba0-83b2-4908-bfd9-516ce8e8d50a"
   },
   "outputs": [],
   "source": [
    "#importing colab libraries\n",
    "#from google.colab import drive\n",
    "#drive.mount('/content/drive')"
   ]
  },
  {
   "cell_type": "code",
   "execution_count": 4,
   "metadata": {
    "executionInfo": {
     "elapsed": 356,
     "status": "ok",
     "timestamp": 1645887447706,
     "user": {
      "displayName": "Rizwan Ahmad",
      "photoUrl": "https://lh3.googleusercontent.com/a-/AOh14GgtPJUYELe4Sy9438Rs3-SuiOjqkt-H9xUsvAdC=s64",
      "userId": "15556863955443815182"
     },
     "user_tz": -330
    },
    "id": "xB6LXXWcg9fc"
   },
   "outputs": [],
   "source": [
    "mydrive_path='C:\\\\Users\\\\Rizwan\\\\Desktop\\\\SBPRS4'"
   ]
  },
  {
   "cell_type": "code",
   "execution_count": 5,
   "metadata": {},
   "outputs": [
    {
     "data": {
      "text/plain": [
       "'C:\\\\Users\\\\Rizwan\\\\Desktop\\\\sbprsv4'"
      ]
     },
     "execution_count": 5,
     "metadata": {},
     "output_type": "execute_result"
    }
   ],
   "source": [
    "pwd"
   ]
  },
  {
   "cell_type": "code",
   "execution_count": 6,
   "metadata": {},
   "outputs": [],
   "source": [
    "#!pip install spacy"
   ]
  },
  {
   "cell_type": "code",
   "execution_count": 7,
   "metadata": {},
   "outputs": [],
   "source": [
    "#pip install en_core_web_sm-3.1.0-py3-none-any.whl"
   ]
  },
  {
   "cell_type": "code",
   "execution_count": 8,
   "metadata": {},
   "outputs": [],
   "source": [
    "#pip install plotly"
   ]
  },
  {
   "cell_type": "code",
   "execution_count": 9,
   "metadata": {},
   "outputs": [],
   "source": [
    "#pip install xgboost"
   ]
  },
  {
   "cell_type": "code",
   "execution_count": 10,
   "metadata": {},
   "outputs": [],
   "source": [
    "#pip install nltk"
   ]
  },
  {
   "cell_type": "code",
   "execution_count": 11,
   "metadata": {},
   "outputs": [],
   "source": [
    "#pip install seaborn"
   ]
  },
  {
   "cell_type": "code",
   "execution_count": 12,
   "metadata": {
    "executionInfo": {
     "elapsed": 966,
     "status": "ok",
     "timestamp": 1645887449120,
     "user": {
      "displayName": "Rizwan Ahmad",
      "photoUrl": "https://lh3.googleusercontent.com/a-/AOh14GgtPJUYELe4Sy9438Rs3-SuiOjqkt-H9xUsvAdC=s64",
      "userId": "15556863955443815182"
     },
     "user_tz": -330
    },
    "id": "Nmz7esHJGbRg"
   },
   "outputs": [
    {
     "name": "stderr",
     "output_type": "stream",
     "text": [
      "C:\\Users\\Rizwan\\anaconda3\\lib\\site-packages\\xgboost\\compat.py:36: FutureWarning:\n",
      "\n",
      "pandas.Int64Index is deprecated and will be removed from pandas in a future version. Use pandas.Index with the appropriate dtype instead.\n",
      "\n"
     ]
    }
   ],
   "source": [
    "#importing libraries \n",
    "import numpy as np\n",
    "import pandas as pd\n",
    "import re, nltk, spacy, string\n",
    "import en_core_web_sm\n",
    "nlp = en_core_web_sm.load()\n",
    "import seaborn as sns\n",
    "import matplotlib.pyplot as plt\n",
    "from nltk.corpus import stopwords \n",
    "%matplotlib inline\n",
    "\n",
    "\n",
    "\n",
    "from plotly.offline import plot\n",
    "import plotly.graph_objects as go\n",
    "import plotly.express as px\n",
    "\n",
    "from sklearn.feature_extraction.text import CountVectorizer, TfidfVectorizer\n",
    "from sklearn.metrics import classification_report,roc_auc_score,confusion_matrix,f1_score,precision_score,accuracy_score\n",
    "from sklearn.metrics import pairwise_distances\n",
    "from sklearn.linear_model import LogisticRegression\n",
    "from sklearn.ensemble import RandomForestClassifier,GradientBoostingClassifier \n",
    "from sklearn.model_selection import train_test_split,GridSearchCV,RandomizedSearchCV\n",
    "from sklearn.preprocessing import MinMaxScaler\n",
    "import xgboost as xgb"
   ]
  },
  {
   "cell_type": "code",
   "execution_count": 13,
   "metadata": {
    "executionInfo": {
     "elapsed": 5,
     "status": "ok",
     "timestamp": 1645887449121,
     "user": {
      "displayName": "Rizwan Ahmad",
      "photoUrl": "https://lh3.googleusercontent.com/a-/AOh14GgtPJUYELe4Sy9438Rs3-SuiOjqkt-H9xUsvAdC=s64",
      "userId": "15556863955443815182"
     },
     "user_tz": -330
    },
    "id": "_3GfFoZvKoWp"
   },
   "outputs": [],
   "source": [
    "pd.set_option('max_colwidth', 500)"
   ]
  },
  {
   "cell_type": "markdown",
   "metadata": {
    "id": "tHHuqvU_cDpM"
   },
   "source": [
    "# 1. Exploratory Analysis"
   ]
  },
  {
   "cell_type": "code",
   "execution_count": 14,
   "metadata": {
    "colab": {
     "base_uri": "https://localhost:8080/",
     "height": 1000
    },
    "executionInfo": {
     "elapsed": 1479,
     "status": "ok",
     "timestamp": 1645887491405,
     "user": {
      "displayName": "Rizwan Ahmad",
      "photoUrl": "https://lh3.googleusercontent.com/a-/AOh14GgtPJUYELe4Sy9438Rs3-SuiOjqkt-H9xUsvAdC=s64",
      "userId": "15556863955443815182"
     },
     "user_tz": -330
    },
    "id": "XqYtJa4oJgVg",
    "outputId": "b651d75e-9046-427e-9609-1ea86a46a559"
   },
   "outputs": [
    {
     "data": {
      "text/html": [
       "<div>\n",
       "<style scoped>\n",
       "    .dataframe tbody tr th:only-of-type {\n",
       "        vertical-align: middle;\n",
       "    }\n",
       "\n",
       "    .dataframe tbody tr th {\n",
       "        vertical-align: top;\n",
       "    }\n",
       "\n",
       "    .dataframe thead th {\n",
       "        text-align: right;\n",
       "    }\n",
       "</style>\n",
       "<table border=\"1\" class=\"dataframe\">\n",
       "  <thead>\n",
       "    <tr style=\"text-align: right;\">\n",
       "      <th></th>\n",
       "      <th>id</th>\n",
       "      <th>brand</th>\n",
       "      <th>categories</th>\n",
       "      <th>manufacturer</th>\n",
       "      <th>name</th>\n",
       "      <th>reviews_date</th>\n",
       "      <th>reviews_didPurchase</th>\n",
       "      <th>reviews_doRecommend</th>\n",
       "      <th>reviews_rating</th>\n",
       "      <th>reviews_text</th>\n",
       "      <th>reviews_title</th>\n",
       "      <th>reviews_userCity</th>\n",
       "      <th>reviews_userProvince</th>\n",
       "      <th>reviews_username</th>\n",
       "      <th>user_sentiment</th>\n",
       "    </tr>\n",
       "  </thead>\n",
       "  <tbody>\n",
       "    <tr>\n",
       "      <th>27091</th>\n",
       "      <td>AVpfrFDZLJeJML43Bmv0</td>\n",
       "      <td>Meguiars</td>\n",
       "      <td>Home,Home Improvement,Automotive,Car Maintenance,Auto &amp; Tires,Auto Detailing &amp; Car Care,Exterior Care,Car Washes &amp; Cleaners,Auto Body,Body Repair,Cleaners,Automotive Basics,Car Care &amp; Detailing,Waxes,Car Care</td>\n",
       "      <td>Parts</td>\n",
       "      <td>Meguiar's Ultimate Quik Detailer 22-Oz.</td>\n",
       "      <td>2016-11-19T00:00:00.000Z</td>\n",
       "      <td>True</td>\n",
       "      <td>True</td>\n",
       "      <td>5</td>\n",
       "      <td>Excellent</td>\n",
       "      <td>Excellent</td>\n",
       "      <td>NaN</td>\n",
       "      <td>NaN</td>\n",
       "      <td>conpapas</td>\n",
       "      <td>Positive</td>\n",
       "    </tr>\n",
       "    <tr>\n",
       "      <th>13777</th>\n",
       "      <td>AVpf3VOfilAPnD_xjpun</td>\n",
       "      <td>Clorox</td>\n",
       "      <td>Household Essentials,Cleaning Supplies,Kitchen Cleaners,Cleaning Wipes,All-Purpose Cleaners,Health &amp; Household,Household Supplies,Household Cleaning,Ways To Shop,Classroom Essentials,Featured Brands,Home And Storage &amp; Org,Clorox,Glass Cleaners,Surface Care &amp; Protection,Business &amp; Industrial,Cleaning &amp; Janitorial Supplies,Cleaners &amp; Disinfectants,Cleaning Wipes &amp; Pads,Cleaning Solutions,Housewares,Target Restock,Food &amp; Grocery,Paper Goods,Wipes,All Purpose Cleaners</td>\n",
       "      <td>Clorox</td>\n",
       "      <td>Clorox Disinfecting Wipes Value Pack Scented 150 Ct Total</td>\n",
       "      <td>2012-01-31T00:00:00.000Z</td>\n",
       "      <td>False</td>\n",
       "      <td>True</td>\n",
       "      <td>5</td>\n",
       "      <td>I always have these handy. I keep one under each sink.They make it so easy to keep my house clean and fresh in a snap! Thank-you Clorox!</td>\n",
       "      <td>Excellent Product-Perfect, Easy, Helpful!</td>\n",
       "      <td>NaN</td>\n",
       "      <td>NaN</td>\n",
       "      <td>amandabelieves</td>\n",
       "      <td>Positive</td>\n",
       "    </tr>\n",
       "    <tr>\n",
       "      <th>3473</th>\n",
       "      <td>AVpe6C3WLJeJML43yApY</td>\n",
       "      <td>Toy Story</td>\n",
       "      <td>Holiday Shop,Halloween,Halloween Costume Accessories,Ways To Shop,Favorite Characters,Toys,Pretend Play &amp; Dress Up,Clothing, Shoes &amp; Accessories,Costumes, Reenactment, Theater,Accessories,Wings, Tails, Ears &amp; Noses,Categories,Kids &amp; Baby,All Costumes,All Children's Halloween Costumes,Kids' Halloween Costumes,#19311 in,#6580 in,#5328 in,Toys &amp; Games,Dress Up &amp; Pretend Play</td>\n",
       "      <td>Disguise</td>\n",
       "      <td>Toy Story Kids' Woody Accessory Kit</td>\n",
       "      <td>2010-10-13T00:00:00Z</td>\n",
       "      <td>NaN</td>\n",
       "      <td>NaN</td>\n",
       "      <td>1</td>\n",
       "      <td>buyer beware--- this item is packaged very poorly! The hat is attached to a piece of cardboard with retail plastic tags which results in very visible holes in the hat. My son is 3 and the vest is to small for him. He usually wears a 5T and the tag on the item says for 3 and older. Def. not worth the money!</td>\n",
       "      <td>very disappointed</td>\n",
       "      <td>NaN</td>\n",
       "      <td>NaN</td>\n",
       "      <td>april</td>\n",
       "      <td>Negative</td>\n",
       "    </tr>\n",
       "    <tr>\n",
       "      <th>28390</th>\n",
       "      <td>AVpfrTyiLJeJML43BrSI</td>\n",
       "      <td>UMGD</td>\n",
       "      <td>Movies, Music &amp; Books,Music,Kids' Music,Music on CD or Vinyl,Children's Music on CD or Vinyl,Children's Music,Disney,Rock,Pop,Children's General</td>\n",
       "      <td>Walt Disney Records</td>\n",
       "      <td>Various Artists - Choo Choo Soul (cd)</td>\n",
       "      <td>2014-04-12T00:00:00.000Z</td>\n",
       "      <td>True</td>\n",
       "      <td>True</td>\n",
       "      <td>5</td>\n",
       "      <td>My son love it he watch the DVD 12 times already.</td>\n",
       "      <td>Choo choo soul</td>\n",
       "      <td>NaN</td>\n",
       "      <td>NaN</td>\n",
       "      <td>antmama</td>\n",
       "      <td>Positive</td>\n",
       "    </tr>\n",
       "    <tr>\n",
       "      <th>5710</th>\n",
       "      <td>AVpf2tw1ilAPnD_xjflC</td>\n",
       "      <td>Summit Entertainment</td>\n",
       "      <td>Movies &amp; TV Shows,Instawatch Movies By VUDU,Shop Instawatch,Movies, Music &amp; Books,Movies,Action &amp; Adventure,Movies &amp; TV,Movies &amp; Music,Special Editions,Comedy,Studio Specials,Instawatch</td>\n",
       "      <td>Summit Entertainment</td>\n",
       "      <td>Red (special Edition) (dvdvideo)</td>\n",
       "      <td>2015-04-18T00:00:00.000Z</td>\n",
       "      <td>NaN</td>\n",
       "      <td>True</td>\n",
       "      <td>4</td>\n",
       "      <td>This is a fun action movie with alot of familiar faces giving good performances. The special features are solid and the DVD is a great value for the price.</td>\n",
       "      <td>Fun movie solid dvd</td>\n",
       "      <td>NaN</td>\n",
       "      <td>NaN</td>\n",
       "      <td>greatoned</td>\n",
       "      <td>Positive</td>\n",
       "    </tr>\n",
       "  </tbody>\n",
       "</table>\n",
       "</div>"
      ],
      "text/plain": [
       "                         id                 brand  \\\n",
       "27091  AVpfrFDZLJeJML43Bmv0              Meguiars   \n",
       "13777  AVpf3VOfilAPnD_xjpun                Clorox   \n",
       "3473   AVpe6C3WLJeJML43yApY             Toy Story   \n",
       "28390  AVpfrTyiLJeJML43BrSI                  UMGD   \n",
       "5710   AVpf2tw1ilAPnD_xjflC  Summit Entertainment   \n",
       "\n",
       "                                                                                                                                                                                                                                                                                                                                                                                                                                                                                 categories  \\\n",
       "27091                                                                                                                                                                                                                                                                      Home,Home Improvement,Automotive,Car Maintenance,Auto & Tires,Auto Detailing & Car Care,Exterior Care,Car Washes & Cleaners,Auto Body,Body Repair,Cleaners,Automotive Basics,Car Care & Detailing,Waxes,Car Care   \n",
       "13777  Household Essentials,Cleaning Supplies,Kitchen Cleaners,Cleaning Wipes,All-Purpose Cleaners,Health & Household,Household Supplies,Household Cleaning,Ways To Shop,Classroom Essentials,Featured Brands,Home And Storage & Org,Clorox,Glass Cleaners,Surface Care & Protection,Business & Industrial,Cleaning & Janitorial Supplies,Cleaners & Disinfectants,Cleaning Wipes & Pads,Cleaning Solutions,Housewares,Target Restock,Food & Grocery,Paper Goods,Wipes,All Purpose Cleaners   \n",
       "3473                                                                                                 Holiday Shop,Halloween,Halloween Costume Accessories,Ways To Shop,Favorite Characters,Toys,Pretend Play & Dress Up,Clothing, Shoes & Accessories,Costumes, Reenactment, Theater,Accessories,Wings, Tails, Ears & Noses,Categories,Kids & Baby,All Costumes,All Children's Halloween Costumes,Kids' Halloween Costumes,#19311 in,#6580 in,#5328 in,Toys & Games,Dress Up & Pretend Play   \n",
       "28390                                                                                                                                                                                                                                                                                                                                      Movies, Music & Books,Music,Kids' Music,Music on CD or Vinyl,Children's Music on CD or Vinyl,Children's Music,Disney,Rock,Pop,Children's General   \n",
       "5710                                                                                                                                                                                                                                                                                              Movies & TV Shows,Instawatch Movies By VUDU,Shop Instawatch,Movies, Music & Books,Movies,Action & Adventure,Movies & TV,Movies & Music,Special Editions,Comedy,Studio Specials,Instawatch   \n",
       "\n",
       "               manufacturer  \\\n",
       "27091                 Parts   \n",
       "13777                Clorox   \n",
       "3473               Disguise   \n",
       "28390   Walt Disney Records   \n",
       "5710   Summit Entertainment   \n",
       "\n",
       "                                                            name  \\\n",
       "27091                    Meguiar's Ultimate Quik Detailer 22-Oz.   \n",
       "13777  Clorox Disinfecting Wipes Value Pack Scented 150 Ct Total   \n",
       "3473                         Toy Story Kids' Woody Accessory Kit   \n",
       "28390                      Various Artists - Choo Choo Soul (cd)   \n",
       "5710                            Red (special Edition) (dvdvideo)   \n",
       "\n",
       "                   reviews_date reviews_didPurchase reviews_doRecommend  \\\n",
       "27091  2016-11-19T00:00:00.000Z                True                True   \n",
       "13777  2012-01-31T00:00:00.000Z               False                True   \n",
       "3473       2010-10-13T00:00:00Z                 NaN                 NaN   \n",
       "28390  2014-04-12T00:00:00.000Z                True                True   \n",
       "5710   2015-04-18T00:00:00.000Z                 NaN                True   \n",
       "\n",
       "       reviews_rating  \\\n",
       "27091               5   \n",
       "13777               5   \n",
       "3473                1   \n",
       "28390               5   \n",
       "5710                4   \n",
       "\n",
       "                                                                                                                                                                                                                                                                                                              reviews_text  \\\n",
       "27091                                                                                                                                                                                                                                                                                                            Excellent   \n",
       "13777                                                                                                                                                                             I always have these handy. I keep one under each sink.They make it so easy to keep my house clean and fresh in a snap! Thank-you Clorox!   \n",
       "3473   buyer beware--- this item is packaged very poorly! The hat is attached to a piece of cardboard with retail plastic tags which results in very visible holes in the hat. My son is 3 and the vest is to small for him. He usually wears a 5T and the tag on the item says for 3 and older. Def. not worth the money!   \n",
       "28390                                                                                                                                                                                                                                                                    My son love it he watch the DVD 12 times already.   \n",
       "5710                                                                                                                                                           This is a fun action movie with alot of familiar faces giving good performances. The special features are solid and the DVD is a great value for the price.   \n",
       "\n",
       "                                   reviews_title reviews_userCity  \\\n",
       "27091                                  Excellent              NaN   \n",
       "13777  Excellent Product-Perfect, Easy, Helpful!              NaN   \n",
       "3473                           very disappointed              NaN   \n",
       "28390                             Choo choo soul              NaN   \n",
       "5710                         Fun movie solid dvd              NaN   \n",
       "\n",
       "      reviews_userProvince reviews_username user_sentiment  \n",
       "27091                  NaN         conpapas       Positive  \n",
       "13777                  NaN   amandabelieves       Positive  \n",
       "3473                   NaN            april       Negative  \n",
       "28390                  NaN          antmama       Positive  \n",
       "5710                   NaN        greatoned       Positive  "
      ]
     },
     "execution_count": 14,
     "metadata": {},
     "output_type": "execute_result"
    }
   ],
   "source": [
    "# Reading the input from folder \n",
    "master_df = pd.read_csv('sample30.csv')\n",
    "df=master_df.copy()\n",
    "df.sample(5)"
   ]
  },
  {
   "cell_type": "code",
   "execution_count": 15,
   "metadata": {
    "colab": {
     "base_uri": "https://localhost:8080/"
    },
    "executionInfo": {
     "elapsed": 388,
     "status": "ok",
     "timestamp": 1645887493429,
     "user": {
      "displayName": "Rizwan Ahmad",
      "photoUrl": "https://lh3.googleusercontent.com/a-/AOh14GgtPJUYELe4Sy9438Rs3-SuiOjqkt-H9xUsvAdC=s64",
      "userId": "15556863955443815182"
     },
     "user_tz": -330
    },
    "id": "E3Jnt-rLN10q",
    "outputId": "b9c672b0-aed2-4e81-db81-f84930b78fc1"
   },
   "outputs": [
    {
     "name": "stdout",
     "output_type": "stream",
     "text": [
      "Number of reviews:  30000\n",
      "Number of unique reviewers:  24915\n",
      "Prop of unique reviewers:  0.831\n",
      "Average rating score:  4.483\n"
     ]
    }
   ],
   "source": [
    "### Total reviews\n",
    "total = len(df['reviews_text'])\n",
    "print (\"Number of reviews: \",total)\n",
    "\n",
    "### How many unique reviewers?\n",
    "print (\"Number of unique reviewers: \",len(df['reviews_username'].unique()))\n",
    "reviewer_prop = float(len(df['reviews_username'].unique())/total)\n",
    "print (\"Prop of unique reviewers: \",round(reviewer_prop,3))\n",
    "\n",
    "### Average star score\n",
    "print (\"Average rating score: \",round(df['reviews_rating'].mean(),3))"
   ]
  },
  {
   "cell_type": "code",
   "execution_count": 16,
   "metadata": {
    "colab": {
     "base_uri": "https://localhost:8080/"
    },
    "executionInfo": {
     "elapsed": 394,
     "status": "ok",
     "timestamp": 1645887495921,
     "user": {
      "displayName": "Rizwan Ahmad",
      "photoUrl": "https://lh3.googleusercontent.com/a-/AOh14GgtPJUYELe4Sy9438Rs3-SuiOjqkt-H9xUsvAdC=s64",
      "userId": "15556863955443815182"
     },
     "user_tz": -330
    },
    "id": "pPx8x-EVN59I",
    "outputId": "a61aef3c-3c51-4c19-bf96-2dc4b7af3ef1"
   },
   "outputs": [
    {
     "name": "stdout",
     "output_type": "stream",
     "text": [
      "rows:  30000\n",
      "columns:  15\n",
      "\n",
      "features:  ['id', 'brand', 'categories', 'manufacturer', 'name', 'reviews_date', 'reviews_didPurchase', 'reviews_doRecommend', 'reviews_rating', 'reviews_text', 'reviews_title', 'reviews_userCity', 'reviews_userProvince', 'reviews_username', 'user_sentiment']\n",
      "\n",
      "missing vlues:  74980\n",
      "\n",
      "Unique values: \n",
      " id                        271\n",
      "brand                     214\n",
      "categories                270\n",
      "manufacturer              227\n",
      "name                      271\n",
      "reviews_date             6857\n",
      "reviews_didPurchase         2\n",
      "reviews_doRecommend         2\n",
      "reviews_rating              5\n",
      "reviews_text            27282\n",
      "reviews_title           18535\n",
      "reviews_userCity          977\n",
      "reviews_userProvince       42\n",
      "reviews_username        24914\n",
      "user_sentiment              2\n",
      "dtype: int64\n"
     ]
    }
   ],
   "source": [
    "#data overivew\n",
    "print('rows: ', df.shape[0])\n",
    "print('columns: ', df.shape[1])\n",
    "print('\\nfeatures: ', df.columns.to_list())\n",
    "print('\\nmissing vlues: ', df.isnull().values.sum())\n",
    "print('\\nUnique values: \\n', df.nunique())"
   ]
  },
  {
   "cell_type": "code",
   "execution_count": 17,
   "metadata": {
    "colab": {
     "base_uri": "https://localhost:8080/"
    },
    "executionInfo": {
     "elapsed": 390,
     "status": "ok",
     "timestamp": 1645887502387,
     "user": {
      "displayName": "Rizwan Ahmad",
      "photoUrl": "https://lh3.googleusercontent.com/a-/AOh14GgtPJUYELe4Sy9438Rs3-SuiOjqkt-H9xUsvAdC=s64",
      "userId": "15556863955443815182"
     },
     "user_tz": -330
    },
    "id": "dtHjTsybM4TX",
    "outputId": "f5ea1dc4-5a5d-46dc-cdd2-199848f10085"
   },
   "outputs": [
    {
     "name": "stdout",
     "output_type": "stream",
     "text": [
      "<class 'pandas.core.frame.DataFrame'>\n",
      "RangeIndex: 30000 entries, 0 to 29999\n",
      "Data columns (total 15 columns):\n",
      " #   Column                Non-Null Count  Dtype \n",
      "---  ------                --------------  ----- \n",
      " 0   id                    30000 non-null  object\n",
      " 1   brand                 30000 non-null  object\n",
      " 2   categories            30000 non-null  object\n",
      " 3   manufacturer          29859 non-null  object\n",
      " 4   name                  30000 non-null  object\n",
      " 5   reviews_date          29954 non-null  object\n",
      " 6   reviews_didPurchase   15932 non-null  object\n",
      " 7   reviews_doRecommend   27430 non-null  object\n",
      " 8   reviews_rating        30000 non-null  int64 \n",
      " 9   reviews_text          30000 non-null  object\n",
      " 10  reviews_title         29810 non-null  object\n",
      " 11  reviews_userCity      1929 non-null   object\n",
      " 12  reviews_userProvince  170 non-null    object\n",
      " 13  reviews_username      29937 non-null  object\n",
      " 14  user_sentiment        29999 non-null  object\n",
      "dtypes: int64(1), object(14)\n",
      "memory usage: 3.4+ MB\n"
     ]
    }
   ],
   "source": [
    "# Info of the dataframe \n",
    "df.info()"
   ]
  },
  {
   "cell_type": "code",
   "execution_count": 18,
   "metadata": {
    "colab": {
     "base_uri": "https://localhost:8080/",
     "height": 375
    },
    "executionInfo": {
     "elapsed": 932,
     "status": "ok",
     "timestamp": 1645887504312,
     "user": {
      "displayName": "Rizwan Ahmad",
      "photoUrl": "https://lh3.googleusercontent.com/a-/AOh14GgtPJUYELe4Sy9438Rs3-SuiOjqkt-H9xUsvAdC=s64",
      "userId": "15556863955443815182"
     },
     "user_tz": -330
    },
    "id": "-A0gjIM5TOPO",
    "outputId": "e80a3e44-8048-4822-d269-ae0e0d20fc51"
   },
   "outputs": [
    {
     "data": {
      "text/plain": [
       "<matplotlib.legend.Legend at 0x1ec25d4bf40>"
      ]
     },
     "execution_count": 18,
     "metadata": {},
     "output_type": "execute_result"
    },
    {
     "data": {
      "image/png": "[encoded data removed]",
      "text/plain": [
       "<Figure size 720x360 with 1 Axes>"
      ]
     },
     "metadata": {
      "needs_background": "light"
     },
     "output_type": "display_data"
    }
   ],
   "source": [
    "# Number of occurences for each rating \n",
    "#plot ratings frequency\n",
    "plt.figure(figsize=[10,5]) #[width, height]\n",
    "x = list(df['reviews_rating'].value_counts().index)\n",
    "y = list(df['reviews_rating'].value_counts())\n",
    "plt.barh(x, y)\n",
    "ticks_x = np.linspace(0, 50000, 6) # (start, end, no of ticks)\n",
    "plt.xticks(ticks_x, fontsize=10, family='fantasy', color='black')\n",
    "plt.yticks(size=15)\n",
    "\n",
    "plt.title('Distribution of ratings', fontsize=20, weight='bold', color='navy', loc='center')\n",
    "plt.xlabel('Count', fontsize=15, weight='bold', color='navy')\n",
    "plt.ylabel('Ratings', fontsize=15, weight='bold', color='navy')\n",
    "plt.legend(['reviews Rating'], shadow=True, loc=4)"
   ]
  },
  {
   "cell_type": "code",
   "execution_count": 19,
   "metadata": {
    "colab": {
     "base_uri": "https://localhost:8080/",
     "height": 617
    },
    "executionInfo": {
     "elapsed": 12,
     "status": "ok",
     "timestamp": 1645887504313,
     "user": {
      "displayName": "Rizwan Ahmad",
      "photoUrl": "https://lh3.googleusercontent.com/a-/AOh14GgtPJUYELe4Sy9438Rs3-SuiOjqkt-H9xUsvAdC=s64",
      "userId": "15556863955443815182"
     },
     "user_tz": -330
    },
    "id": "ws3BWlljULHd",
    "outputId": "f7fe437d-2148-4871-c284-38fc70a4732d"
   },
   "outputs": [
    {
     "name": "stderr",
     "output_type": "stream",
     "text": [
      "C:\\Users\\Rizwan\\anaconda3\\lib\\site-packages\\seaborn\\_decorators.py:36: FutureWarning:\n",
      "\n",
      "Pass the following variable as a keyword arg: x. From version 0.12, the only valid positional argument will be `data`, and passing other arguments without an explicit keyword will result in an error or misinterpretation.\n",
      "\n"
     ]
    },
    {
     "data": {
      "image/png": "[encoded data removed]",
      "text/plain": [
       "<Figure size 720x576 with 1 Axes>"
      ]
     },
     "metadata": {
      "needs_background": "light"
     },
     "output_type": "display_data"
    }
   ],
   "source": [
    "# Number of Postive and Negatives in the data frame showing the class imbalance\n",
    "#Replace the Nan values to No Data for reviewers did purchase or not\n",
    "df['reviews_didPurchase'].fillna('No Data', inplace=True)\n",
    "#Distribution of reviews for actual purchasing customers\n",
    "plt.figure(figsize=(10,8))\n",
    "ax = sns.countplot(df['reviews_didPurchase'])\n",
    "ax.set_xlabel(xlabel=\"Shoppers did purchase the product\", fontsize=17)\n",
    "ax.set_ylabel(ylabel='Count of Reviews', fontsize=17)\n",
    "ax.axes.set_title('Number of Genuine Reviews', fontsize=17)\n",
    "ax.tick_params(labelsize=13)"
   ]
  },
  {
   "cell_type": "code",
   "execution_count": 20,
   "metadata": {
    "colab": {
     "base_uri": "https://localhost:8080/",
     "height": 528
    },
    "executionInfo": {
     "elapsed": 1751,
     "status": "ok",
     "timestamp": 1645887506056,
     "user": {
      "displayName": "Rizwan Ahmad",
      "photoUrl": "https://lh3.googleusercontent.com/a-/AOh14GgtPJUYELe4Sy9438Rs3-SuiOjqkt-H9xUsvAdC=s64",
      "userId": "15556863955443815182"
     },
     "user_tz": -330
    },
    "id": "6CoaF2s8VEUB",
    "outputId": "7cb893cd-55e5-4c58-c519-5e154da13468"
   },
   "outputs": [
    {
     "data": {
      "image/png": "[encoded data removed]",
      "text/plain": [
       "<Figure size 720x576 with 1 Axes>"
      ]
     },
     "metadata": {
      "needs_background": "light"
     },
     "output_type": "display_data"
    }
   ],
   "source": [
    "# To see any corrections are required in the dataframe is required using rating and user sentiment \n",
    "# from IPython.core.pylabtools import figsize\n",
    "# figsize(10,10)\n",
    "# sns.histplot(hue=df['reviews_rating'],x=df['user_sentiment'])\n",
    "# plt.yticks(np.arange(0,30000,10000))\n",
    "# plt.show()\n",
    "\n",
    "plt.figure(figsize=(10,8))\n",
    "ax = sns.histplot(hue=df['reviews_rating'],x=df['user_sentiment'])\n",
    "ax.set_xlabel(xlabel=\"Shopper Sentiment\", fontsize=17)\n",
    "ax.set_ylabel(ylabel='Count of Reviews', fontsize=17)\n",
    "ax.axes.set_title('Review Segregation', fontsize=17)\n",
    "ax.tick_params(labelsize=13)"
   ]
  },
  {
   "cell_type": "code",
   "execution_count": 21,
   "metadata": {
    "colab": {
     "base_uri": "https://localhost:8080/"
    },
    "executionInfo": {
     "elapsed": 39,
     "status": "ok",
     "timestamp": 1645887506057,
     "user": {
      "displayName": "Rizwan Ahmad",
      "photoUrl": "https://lh3.googleusercontent.com/a-/AOh14GgtPJUYELe4Sy9438Rs3-SuiOjqkt-H9xUsvAdC=s64",
      "userId": "15556863955443815182"
     },
     "user_tz": -330
    },
    "id": "xffRK_qYezp9",
    "outputId": "a87fa87e-efb6-4b96-b3be-e5554ec7e608"
   },
   "outputs": [
    {
     "data": {
      "text/plain": [
       "Positive    26632\n",
       "Negative     3367\n",
       "Name: user_sentiment, dtype: int64"
      ]
     },
     "execution_count": 21,
     "metadata": {},
     "output_type": "execute_result"
    }
   ],
   "source": [
    "df['user_sentiment'].value_counts()"
   ]
  },
  {
   "cell_type": "markdown",
   "metadata": {
    "id": "l8uMn5gZYHHD"
   },
   "source": [
    "* We need to correct the data available in the sentiments considering the rating of users"
   ]
  },
  {
   "cell_type": "code",
   "execution_count": 22,
   "metadata": {
    "colab": {
     "base_uri": "https://localhost:8080/"
    },
    "executionInfo": {
     "elapsed": 36,
     "status": "ok",
     "timestamp": 1645887506059,
     "user": {
      "displayName": "Rizwan Ahmad",
      "photoUrl": "https://lh3.googleusercontent.com/a-/AOh14GgtPJUYELe4Sy9438Rs3-SuiOjqkt-H9xUsvAdC=s64",
      "userId": "15556863955443815182"
     },
     "user_tz": -330
    },
    "id": "5Dh7fOJZaiwh",
    "outputId": "754e5649-9e10-407c-ab1c-b4d3204e6f80"
   },
   "outputs": [
    {
     "name": "stderr",
     "output_type": "stream",
     "text": [
      "[nltk_data] Downloading package stopwords to\n",
      "[nltk_data]     C:\\Users\\Rizwan\\AppData\\Roaming\\nltk_data...\n",
      "[nltk_data]   Package stopwords is already up-to-date!\n"
     ]
    },
    {
     "data": {
      "text/plain": [
       "True"
      ]
     },
     "execution_count": 22,
     "metadata": {},
     "output_type": "execute_result"
    }
   ],
   "source": [
    "# To download the stopwords from NLTK library\n",
    "import nltk\n",
    "nltk.download('stopwords')"
   ]
  },
  {
   "cell_type": "code",
   "execution_count": 23,
   "metadata": {},
   "outputs": [],
   "source": [
    "#pip install wordcloud"
   ]
  },
  {
   "cell_type": "code",
   "execution_count": 24,
   "metadata": {
    "colab": {
     "base_uri": "https://localhost:8080/",
     "height": 449
    },
    "executionInfo": {
     "elapsed": 34,
     "status": "ok",
     "timestamp": 1645887506060,
     "user": {
      "displayName": "Rizwan Ahmad",
      "photoUrl": "https://lh3.googleusercontent.com/a-/AOh14GgtPJUYELe4Sy9438Rs3-SuiOjqkt-H9xUsvAdC=s64",
      "userId": "15556863955443815182"
     },
     "user_tz": -330
    },
    "id": "nkY4Q9KjZMjC",
    "outputId": "19a31219-9148-407f-da44-41c508b7e583"
   },
   "outputs": [
    {
     "data": {
      "image/png": "[encoded data removed]",
      "text/plain": [
       "<Figure size 1080x1080 with 1 Axes>"
      ]
     },
     "metadata": {
      "needs_background": "light"
     },
     "output_type": "display_data"
    }
   ],
   "source": [
    "# To Check the most word occurence using word cloud\n",
    "from wordcloud import WordCloud ,STOPWORDS\n",
    "stopwords = set(STOPWORDS)\n",
    "wordcloud = WordCloud(background_color='white', stopwords=stopwords, max_words=300, max_font_size=40,\n",
    "                     scale=3, random_state=1).generate(str(df['reviews_text'].value_counts()))\n",
    "plt.figure(figsize=(15,15))\n",
    "plt.imshow(wordcloud, interpolation='bilinear')\n",
    "plt.axis('off')\n",
    "plt.show()"
   ]
  },
  {
   "cell_type": "markdown",
   "metadata": {
    "id": "VxHECxL9cMfO"
   },
   "source": [
    "#  2. Data Cleaning"
   ]
  },
  {
   "cell_type": "code",
   "execution_count": 25,
   "metadata": {
    "colab": {
     "base_uri": "https://localhost:8080/"
    },
    "executionInfo": {
     "elapsed": 33,
     "status": "ok",
     "timestamp": 1645887506061,
     "user": {
      "displayName": "Rizwan Ahmad",
      "photoUrl": "https://lh3.googleusercontent.com/a-/AOh14GgtPJUYELe4Sy9438Rs3-SuiOjqkt-H9xUsvAdC=s64",
      "userId": "15556863955443815182"
     },
     "user_tz": -330
    },
    "id": "mAg2xsI1KJtq",
    "outputId": "08275e8a-fbd2-464f-cbcf-a959134c77e4"
   },
   "outputs": [
    {
     "data": {
      "text/plain": [
       "id                          0\n",
       "brand                       0\n",
       "categories                  0\n",
       "manufacturer              141\n",
       "name                        0\n",
       "reviews_date               46\n",
       "reviews_didPurchase         0\n",
       "reviews_doRecommend      2570\n",
       "reviews_rating              0\n",
       "reviews_text                0\n",
       "reviews_title             190\n",
       "reviews_userCity        28071\n",
       "reviews_userProvince    29830\n",
       "reviews_username           63\n",
       "user_sentiment              1\n",
       "dtype: int64"
      ]
     },
     "execution_count": 25,
     "metadata": {},
     "output_type": "execute_result"
    }
   ],
   "source": [
    "# Finding the number of rows with Null values\n",
    "df.isnull().sum()"
   ]
  },
  {
   "cell_type": "code",
   "execution_count": 26,
   "metadata": {
    "colab": {
     "base_uri": "https://localhost:8080/"
    },
    "executionInfo": {
     "elapsed": 31,
     "status": "ok",
     "timestamp": 1645887506062,
     "user": {
      "displayName": "Rizwan Ahmad",
      "photoUrl": "https://lh3.googleusercontent.com/a-/AOh14GgtPJUYELe4Sy9438Rs3-SuiOjqkt-H9xUsvAdC=s64",
      "userId": "15556863955443815182"
     },
     "user_tz": -330
    },
    "id": "cFA0xWv8K9tf",
    "outputId": "047c5cb7-b8f3-4814-f2ee-d734c2a79f7b"
   },
   "outputs": [
    {
     "data": {
      "text/plain": [
       "(30000, 15)"
      ]
     },
     "execution_count": 26,
     "metadata": {},
     "output_type": "execute_result"
    }
   ],
   "source": [
    "#shape of the dataframe\n",
    "df.shape"
   ]
  },
  {
   "cell_type": "code",
   "execution_count": 27,
   "metadata": {
    "colab": {
     "base_uri": "https://localhost:8080/",
     "height": 1000
    },
    "executionInfo": {
     "elapsed": 29,
     "status": "ok",
     "timestamp": 1645887506063,
     "user": {
      "displayName": "Rizwan Ahmad",
      "photoUrl": "https://lh3.googleusercontent.com/a-/AOh14GgtPJUYELe4Sy9438Rs3-SuiOjqkt-H9xUsvAdC=s64",
      "userId": "15556863955443815182"
     },
     "user_tz": -330
    },
    "id": "6_o-Jmm_LMSw",
    "outputId": "b414369b-7d59-48b6-a496-23e85a1d5287"
   },
   "outputs": [
    {
     "data": {
      "text/html": [
       "<div>\n",
       "<style scoped>\n",
       "    .dataframe tbody tr th:only-of-type {\n",
       "        vertical-align: middle;\n",
       "    }\n",
       "\n",
       "    .dataframe tbody tr th {\n",
       "        vertical-align: top;\n",
       "    }\n",
       "\n",
       "    .dataframe thead th {\n",
       "        text-align: right;\n",
       "    }\n",
       "</style>\n",
       "<table border=\"1\" class=\"dataframe\">\n",
       "  <thead>\n",
       "    <tr style=\"text-align: right;\">\n",
       "      <th></th>\n",
       "      <th>id</th>\n",
       "      <th>brand</th>\n",
       "      <th>categories</th>\n",
       "      <th>manufacturer</th>\n",
       "      <th>name</th>\n",
       "      <th>reviews_date</th>\n",
       "      <th>reviews_didPurchase</th>\n",
       "      <th>reviews_doRecommend</th>\n",
       "      <th>reviews_rating</th>\n",
       "      <th>reviews_text</th>\n",
       "      <th>reviews_title</th>\n",
       "      <th>reviews_username</th>\n",
       "      <th>user_sentiment</th>\n",
       "    </tr>\n",
       "  </thead>\n",
       "  <tbody>\n",
       "    <tr>\n",
       "      <th>0</th>\n",
       "      <td>AV13O1A8GV-KLJ3akUyj</td>\n",
       "      <td>Universal Music</td>\n",
       "      <td>Movies, Music &amp; Books,Music,R&amp;b,Movies &amp; TV,Movie Bundles &amp; Collections,CDs &amp; Vinyl,Rap &amp; Hip-Hop,Bass,Music on CD or Vinyl,Rap,Hip-Hop,Mainstream Rap,Pop Rap</td>\n",
       "      <td>Universal Music Group / Cash Money</td>\n",
       "      <td>Pink Friday: Roman Reloaded Re-Up (w/dvd)</td>\n",
       "      <td>2012-11-30T06:21:45.000Z</td>\n",
       "      <td>No Data</td>\n",
       "      <td>NaN</td>\n",
       "      <td>5</td>\n",
       "      <td>i love this album. it's very good. more to the hip hop side than her current pop sound.. SO HYPE! i listen to this everyday at the gym! i give it 5star rating all the way. her metaphors are just crazy.</td>\n",
       "      <td>Just Awesome</td>\n",
       "      <td>joshua</td>\n",
       "      <td>Positive</td>\n",
       "    </tr>\n",
       "    <tr>\n",
       "      <th>1</th>\n",
       "      <td>AV14LG0R-jtxr-f38QfS</td>\n",
       "      <td>Lundberg</td>\n",
       "      <td>Food,Packaged Foods,Snacks,Crackers,Snacks, Cookies &amp; Chips,Rice Cakes,Cakes</td>\n",
       "      <td>Lundberg</td>\n",
       "      <td>Lundberg Organic Cinnamon Toast Rice Cakes</td>\n",
       "      <td>2017-07-09T00:00:00.000Z</td>\n",
       "      <td>True</td>\n",
       "      <td>NaN</td>\n",
       "      <td>5</td>\n",
       "      <td>Good flavor. This review was collected as part of a promotion.</td>\n",
       "      <td>Good</td>\n",
       "      <td>dorothy w</td>\n",
       "      <td>Positive</td>\n",
       "    </tr>\n",
       "    <tr>\n",
       "      <th>2</th>\n",
       "      <td>AV14LG0R-jtxr-f38QfS</td>\n",
       "      <td>Lundberg</td>\n",
       "      <td>Food,Packaged Foods,Snacks,Crackers,Snacks, Cookies &amp; Chips,Rice Cakes,Cakes</td>\n",
       "      <td>Lundberg</td>\n",
       "      <td>Lundberg Organic Cinnamon Toast Rice Cakes</td>\n",
       "      <td>2017-07-09T00:00:00.000Z</td>\n",
       "      <td>True</td>\n",
       "      <td>NaN</td>\n",
       "      <td>5</td>\n",
       "      <td>Good flavor.</td>\n",
       "      <td>Good</td>\n",
       "      <td>dorothy w</td>\n",
       "      <td>Positive</td>\n",
       "    </tr>\n",
       "    <tr>\n",
       "      <th>3</th>\n",
       "      <td>AV16khLE-jtxr-f38VFn</td>\n",
       "      <td>K-Y</td>\n",
       "      <td>Personal Care,Medicine Cabinet,Lubricant/Spermicide,Health,Sexual Wellness,Lubricants</td>\n",
       "      <td>K-Y</td>\n",
       "      <td>K-Y Love Sensuality Pleasure Gel</td>\n",
       "      <td>2016-01-06T00:00:00.000Z</td>\n",
       "      <td>False</td>\n",
       "      <td>False</td>\n",
       "      <td>1</td>\n",
       "      <td>I read through the reviews on here before looking in to buying one of the couples lubricants, and was ultimately disappointed that it didn't even live up to the reviews I had read. For starters, neither my boyfriend nor I could notice any sort of enhanced or 'captivating' sensation. What we did notice, however, was the messy consistency that was reminiscent of a more liquid-y vaseline. It was difficult to clean up, and was not a pleasant, especially since it lacked the 'captivating' sensatio...</td>\n",
       "      <td>Disappointed</td>\n",
       "      <td>rebecca</td>\n",
       "      <td>Negative</td>\n",
       "    </tr>\n",
       "    <tr>\n",
       "      <th>4</th>\n",
       "      <td>AV16khLE-jtxr-f38VFn</td>\n",
       "      <td>K-Y</td>\n",
       "      <td>Personal Care,Medicine Cabinet,Lubricant/Spermicide,Health,Sexual Wellness,Lubricants</td>\n",
       "      <td>K-Y</td>\n",
       "      <td>K-Y Love Sensuality Pleasure Gel</td>\n",
       "      <td>2016-12-21T00:00:00.000Z</td>\n",
       "      <td>False</td>\n",
       "      <td>False</td>\n",
       "      <td>1</td>\n",
       "      <td>My husband bought this gel for us. The gel caused irritation and it felt like it was burning my skin. I wouldn't recommend this gel.</td>\n",
       "      <td>Irritation</td>\n",
       "      <td>walker557</td>\n",
       "      <td>Negative</td>\n",
       "    </tr>\n",
       "  </tbody>\n",
       "</table>\n",
       "</div>"
      ],
      "text/plain": [
       "                     id            brand  \\\n",
       "0  AV13O1A8GV-KLJ3akUyj  Universal Music   \n",
       "1  AV14LG0R-jtxr-f38QfS         Lundberg   \n",
       "2  AV14LG0R-jtxr-f38QfS         Lundberg   \n",
       "3  AV16khLE-jtxr-f38VFn              K-Y   \n",
       "4  AV16khLE-jtxr-f38VFn              K-Y   \n",
       "\n",
       "                                                                                                                                                       categories  \\\n",
       "0  Movies, Music & Books,Music,R&b,Movies & TV,Movie Bundles & Collections,CDs & Vinyl,Rap & Hip-Hop,Bass,Music on CD or Vinyl,Rap,Hip-Hop,Mainstream Rap,Pop Rap   \n",
       "1                                                                                    Food,Packaged Foods,Snacks,Crackers,Snacks, Cookies & Chips,Rice Cakes,Cakes   \n",
       "2                                                                                    Food,Packaged Foods,Snacks,Crackers,Snacks, Cookies & Chips,Rice Cakes,Cakes   \n",
       "3                                                                           Personal Care,Medicine Cabinet,Lubricant/Spermicide,Health,Sexual Wellness,Lubricants   \n",
       "4                                                                           Personal Care,Medicine Cabinet,Lubricant/Spermicide,Health,Sexual Wellness,Lubricants   \n",
       "\n",
       "                         manufacturer  \\\n",
       "0  Universal Music Group / Cash Money   \n",
       "1                            Lundberg   \n",
       "2                            Lundberg   \n",
       "3                                 K-Y   \n",
       "4                                 K-Y   \n",
       "\n",
       "                                         name              reviews_date  \\\n",
       "0   Pink Friday: Roman Reloaded Re-Up (w/dvd)  2012-11-30T06:21:45.000Z   \n",
       "1  Lundberg Organic Cinnamon Toast Rice Cakes  2017-07-09T00:00:00.000Z   \n",
       "2  Lundberg Organic Cinnamon Toast Rice Cakes  2017-07-09T00:00:00.000Z   \n",
       "3            K-Y Love Sensuality Pleasure Gel  2016-01-06T00:00:00.000Z   \n",
       "4            K-Y Love Sensuality Pleasure Gel  2016-12-21T00:00:00.000Z   \n",
       "\n",
       "  reviews_didPurchase reviews_doRecommend  reviews_rating  \\\n",
       "0             No Data                 NaN               5   \n",
       "1                True                 NaN               5   \n",
       "2                True                 NaN               5   \n",
       "3               False               False               1   \n",
       "4               False               False               1   \n",
       "\n",
       "                                                                                                                                                                                                                                                                                                                                                                                                                                                                                                          reviews_text  \\\n",
       "0                                                                                                                                                                                                                                                                                                            i love this album. it's very good. more to the hip hop side than her current pop sound.. SO HYPE! i listen to this everyday at the gym! i give it 5star rating all the way. her metaphors are just crazy.   \n",
       "1                                                                                                                                                                                                                                                                                                                                                                                                                                                       Good flavor. This review was collected as part of a promotion.   \n",
       "2                                                                                                                                                                                                                                                                                                                                                                                                                                                                                                         Good flavor.   \n",
       "3  I read through the reviews on here before looking in to buying one of the couples lubricants, and was ultimately disappointed that it didn't even live up to the reviews I had read. For starters, neither my boyfriend nor I could notice any sort of enhanced or 'captivating' sensation. What we did notice, however, was the messy consistency that was reminiscent of a more liquid-y vaseline. It was difficult to clean up, and was not a pleasant, especially since it lacked the 'captivating' sensatio...   \n",
       "4                                                                                                                                                                                                                                                                                                                                                                                 My husband bought this gel for us. The gel caused irritation and it felt like it was burning my skin. I wouldn't recommend this gel.   \n",
       "\n",
       "  reviews_title reviews_username user_sentiment  \n",
       "0  Just Awesome           joshua       Positive  \n",
       "1          Good        dorothy w       Positive  \n",
       "2          Good        dorothy w       Positive  \n",
       "3  Disappointed          rebecca       Negative  \n",
       "4    Irritation        walker557       Negative  "
      ]
     },
     "execution_count": 27,
     "metadata": {},
     "output_type": "execute_result"
    }
   ],
   "source": [
    "#From the null values percentages, columns reviews_userCity and reviews_userProvince can be dropped \n",
    "df = df.drop(columns=['reviews_userCity','reviews_userProvince'],axis=1)\n",
    "df.head()"
   ]
  },
  {
   "cell_type": "code",
   "execution_count": 28,
   "metadata": {
    "colab": {
     "base_uri": "https://localhost:8080/"
    },
    "executionInfo": {
     "elapsed": 29,
     "status": "ok",
     "timestamp": 1645887506064,
     "user": {
      "displayName": "Rizwan Ahmad",
      "photoUrl": "https://lh3.googleusercontent.com/a-/AOh14GgtPJUYELe4Sy9438Rs3-SuiOjqkt-H9xUsvAdC=s64",
      "userId": "15556863955443815182"
     },
     "user_tz": -330
    },
    "id": "uVD1KQJqMTma",
    "outputId": "820e46b7-704b-4b15-cc5c-e07f0f061d7a"
   },
   "outputs": [
    {
     "name": "stdout",
     "output_type": "stream",
     "text": [
      "shape of the dataframe = (30000, 13)\n"
     ]
    },
    {
     "data": {
      "text/plain": [
       "id                     0.000000\n",
       "brand                  0.000000\n",
       "categories             0.000000\n",
       "manufacturer           0.004700\n",
       "name                   0.000000\n",
       "reviews_date           0.001533\n",
       "reviews_didPurchase    0.000000\n",
       "reviews_doRecommend    0.085667\n",
       "reviews_rating         0.000000\n",
       "reviews_text           0.000000\n",
       "reviews_title          0.006333\n",
       "reviews_username       0.002100\n",
       "user_sentiment         0.000033\n",
       "dtype: float64"
      ]
     },
     "execution_count": 28,
     "metadata": {},
     "output_type": "execute_result"
    }
   ],
   "source": [
    "# Finding the number of rows with Null values\n",
    "print(\"shape of the dataframe =\",df.shape)\n",
    "df.isnull().sum()/len(df)"
   ]
  },
  {
   "cell_type": "code",
   "execution_count": 29,
   "metadata": {
    "colab": {
     "base_uri": "https://localhost:8080/"
    },
    "executionInfo": {
     "elapsed": 27,
     "status": "ok",
     "timestamp": 1645887506065,
     "user": {
      "displayName": "Rizwan Ahmad",
      "photoUrl": "https://lh3.googleusercontent.com/a-/AOh14GgtPJUYELe4Sy9438Rs3-SuiOjqkt-H9xUsvAdC=s64",
      "userId": "15556863955443815182"
     },
     "user_tz": -330
    },
    "id": "QwDu_7ICfHgw",
    "outputId": "5e89e9f0-99d8-4e3f-b5e0-a76c8001eddb"
   },
   "outputs": [
    {
     "data": {
      "text/plain": [
       "Positive    26632\n",
       "Negative     3367\n",
       "Name: user_sentiment, dtype: int64"
      ]
     },
     "execution_count": 29,
     "metadata": {},
     "output_type": "execute_result"
    }
   ],
   "source": [
    "# Before Updating the user sentiment columns\n",
    "df['user_sentiment'].value_counts()"
   ]
  },
  {
   "cell_type": "code",
   "execution_count": 30,
   "metadata": {
    "executionInfo": {
     "elapsed": 25,
     "status": "ok",
     "timestamp": 1645887506066,
     "user": {
      "displayName": "Rizwan Ahmad",
      "photoUrl": "https://lh3.googleusercontent.com/a-/AOh14GgtPJUYELe4Sy9438Rs3-SuiOjqkt-H9xUsvAdC=s64",
      "userId": "15556863955443815182"
     },
     "user_tz": -330
    },
    "id": "dGb-dmFcboOz"
   },
   "outputs": [],
   "source": [
    "# for correcting the user sentiment according to rating \n",
    "def review_sentiment_clear(x):\n",
    "  if x >= 3 :\n",
    "    return 'Postive'\n",
    "  elif x > 0 and x < 3  :\n",
    "    return 'Negative' "
   ]
  },
  {
   "cell_type": "code",
   "execution_count": 31,
   "metadata": {
    "colab": {
     "base_uri": "https://localhost:8080/",
     "height": 1000
    },
    "executionInfo": {
     "elapsed": 26,
     "status": "ok",
     "timestamp": 1645887506067,
     "user": {
      "displayName": "Rizwan Ahmad",
      "photoUrl": "https://lh3.googleusercontent.com/a-/AOh14GgtPJUYELe4Sy9438Rs3-SuiOjqkt-H9xUsvAdC=s64",
      "userId": "15556863955443815182"
     },
     "user_tz": -330
    },
    "id": "eXlO2H45d2D0",
    "outputId": "16604a2a-1f03-4d20-d957-a6ec3323f879"
   },
   "outputs": [
    {
     "data": {
      "text/html": [
       "<div>\n",
       "<style scoped>\n",
       "    .dataframe tbody tr th:only-of-type {\n",
       "        vertical-align: middle;\n",
       "    }\n",
       "\n",
       "    .dataframe tbody tr th {\n",
       "        vertical-align: top;\n",
       "    }\n",
       "\n",
       "    .dataframe thead th {\n",
       "        text-align: right;\n",
       "    }\n",
       "</style>\n",
       "<table border=\"1\" class=\"dataframe\">\n",
       "  <thead>\n",
       "    <tr style=\"text-align: right;\">\n",
       "      <th></th>\n",
       "      <th>id</th>\n",
       "      <th>brand</th>\n",
       "      <th>categories</th>\n",
       "      <th>manufacturer</th>\n",
       "      <th>name</th>\n",
       "      <th>reviews_date</th>\n",
       "      <th>reviews_didPurchase</th>\n",
       "      <th>reviews_doRecommend</th>\n",
       "      <th>reviews_rating</th>\n",
       "      <th>reviews_text</th>\n",
       "      <th>reviews_title</th>\n",
       "      <th>reviews_username</th>\n",
       "      <th>user_sentiment</th>\n",
       "    </tr>\n",
       "  </thead>\n",
       "  <tbody>\n",
       "    <tr>\n",
       "      <th>0</th>\n",
       "      <td>AV13O1A8GV-KLJ3akUyj</td>\n",
       "      <td>Universal Music</td>\n",
       "      <td>Movies, Music &amp; Books,Music,R&amp;b,Movies &amp; TV,Movie Bundles &amp; Collections,CDs &amp; Vinyl,Rap &amp; Hip-Hop,Bass,Music on CD or Vinyl,Rap,Hip-Hop,Mainstream Rap,Pop Rap</td>\n",
       "      <td>Universal Music Group / Cash Money</td>\n",
       "      <td>Pink Friday: Roman Reloaded Re-Up (w/dvd)</td>\n",
       "      <td>2012-11-30T06:21:45.000Z</td>\n",
       "      <td>No Data</td>\n",
       "      <td>NaN</td>\n",
       "      <td>5</td>\n",
       "      <td>i love this album. it's very good. more to the hip hop side than her current pop sound.. SO HYPE! i listen to this everyday at the gym! i give it 5star rating all the way. her metaphors are just crazy.</td>\n",
       "      <td>Just Awesome</td>\n",
       "      <td>joshua</td>\n",
       "      <td>Postive</td>\n",
       "    </tr>\n",
       "    <tr>\n",
       "      <th>1</th>\n",
       "      <td>AV14LG0R-jtxr-f38QfS</td>\n",
       "      <td>Lundberg</td>\n",
       "      <td>Food,Packaged Foods,Snacks,Crackers,Snacks, Cookies &amp; Chips,Rice Cakes,Cakes</td>\n",
       "      <td>Lundberg</td>\n",
       "      <td>Lundberg Organic Cinnamon Toast Rice Cakes</td>\n",
       "      <td>2017-07-09T00:00:00.000Z</td>\n",
       "      <td>True</td>\n",
       "      <td>NaN</td>\n",
       "      <td>5</td>\n",
       "      <td>Good flavor. This review was collected as part of a promotion.</td>\n",
       "      <td>Good</td>\n",
       "      <td>dorothy w</td>\n",
       "      <td>Postive</td>\n",
       "    </tr>\n",
       "    <tr>\n",
       "      <th>2</th>\n",
       "      <td>AV14LG0R-jtxr-f38QfS</td>\n",
       "      <td>Lundberg</td>\n",
       "      <td>Food,Packaged Foods,Snacks,Crackers,Snacks, Cookies &amp; Chips,Rice Cakes,Cakes</td>\n",
       "      <td>Lundberg</td>\n",
       "      <td>Lundberg Organic Cinnamon Toast Rice Cakes</td>\n",
       "      <td>2017-07-09T00:00:00.000Z</td>\n",
       "      <td>True</td>\n",
       "      <td>NaN</td>\n",
       "      <td>5</td>\n",
       "      <td>Good flavor.</td>\n",
       "      <td>Good</td>\n",
       "      <td>dorothy w</td>\n",
       "      <td>Postive</td>\n",
       "    </tr>\n",
       "    <tr>\n",
       "      <th>3</th>\n",
       "      <td>AV16khLE-jtxr-f38VFn</td>\n",
       "      <td>K-Y</td>\n",
       "      <td>Personal Care,Medicine Cabinet,Lubricant/Spermicide,Health,Sexual Wellness,Lubricants</td>\n",
       "      <td>K-Y</td>\n",
       "      <td>K-Y Love Sensuality Pleasure Gel</td>\n",
       "      <td>2016-01-06T00:00:00.000Z</td>\n",
       "      <td>False</td>\n",
       "      <td>False</td>\n",
       "      <td>1</td>\n",
       "      <td>I read through the reviews on here before looking in to buying one of the couples lubricants, and was ultimately disappointed that it didn't even live up to the reviews I had read. For starters, neither my boyfriend nor I could notice any sort of enhanced or 'captivating' sensation. What we did notice, however, was the messy consistency that was reminiscent of a more liquid-y vaseline. It was difficult to clean up, and was not a pleasant, especially since it lacked the 'captivating' sensatio...</td>\n",
       "      <td>Disappointed</td>\n",
       "      <td>rebecca</td>\n",
       "      <td>Negative</td>\n",
       "    </tr>\n",
       "    <tr>\n",
       "      <th>4</th>\n",
       "      <td>AV16khLE-jtxr-f38VFn</td>\n",
       "      <td>K-Y</td>\n",
       "      <td>Personal Care,Medicine Cabinet,Lubricant/Spermicide,Health,Sexual Wellness,Lubricants</td>\n",
       "      <td>K-Y</td>\n",
       "      <td>K-Y Love Sensuality Pleasure Gel</td>\n",
       "      <td>2016-12-21T00:00:00.000Z</td>\n",
       "      <td>False</td>\n",
       "      <td>False</td>\n",
       "      <td>1</td>\n",
       "      <td>My husband bought this gel for us. The gel caused irritation and it felt like it was burning my skin. I wouldn't recommend this gel.</td>\n",
       "      <td>Irritation</td>\n",
       "      <td>walker557</td>\n",
       "      <td>Negative</td>\n",
       "    </tr>\n",
       "  </tbody>\n",
       "</table>\n",
       "</div>"
      ],
      "text/plain": [
       "                     id            brand  \\\n",
       "0  AV13O1A8GV-KLJ3akUyj  Universal Music   \n",
       "1  AV14LG0R-jtxr-f38QfS         Lundberg   \n",
       "2  AV14LG0R-jtxr-f38QfS         Lundberg   \n",
       "3  AV16khLE-jtxr-f38VFn              K-Y   \n",
       "4  AV16khLE-jtxr-f38VFn              K-Y   \n",
       "\n",
       "                                                                                                                                                       categories  \\\n",
       "0  Movies, Music & Books,Music,R&b,Movies & TV,Movie Bundles & Collections,CDs & Vinyl,Rap & Hip-Hop,Bass,Music on CD or Vinyl,Rap,Hip-Hop,Mainstream Rap,Pop Rap   \n",
       "1                                                                                    Food,Packaged Foods,Snacks,Crackers,Snacks, Cookies & Chips,Rice Cakes,Cakes   \n",
       "2                                                                                    Food,Packaged Foods,Snacks,Crackers,Snacks, Cookies & Chips,Rice Cakes,Cakes   \n",
       "3                                                                           Personal Care,Medicine Cabinet,Lubricant/Spermicide,Health,Sexual Wellness,Lubricants   \n",
       "4                                                                           Personal Care,Medicine Cabinet,Lubricant/Spermicide,Health,Sexual Wellness,Lubricants   \n",
       "\n",
       "                         manufacturer  \\\n",
       "0  Universal Music Group / Cash Money   \n",
       "1                            Lundberg   \n",
       "2                            Lundberg   \n",
       "3                                 K-Y   \n",
       "4                                 K-Y   \n",
       "\n",
       "                                         name              reviews_date  \\\n",
       "0   Pink Friday: Roman Reloaded Re-Up (w/dvd)  2012-11-30T06:21:45.000Z   \n",
       "1  Lundberg Organic Cinnamon Toast Rice Cakes  2017-07-09T00:00:00.000Z   \n",
       "2  Lundberg Organic Cinnamon Toast Rice Cakes  2017-07-09T00:00:00.000Z   \n",
       "3            K-Y Love Sensuality Pleasure Gel  2016-01-06T00:00:00.000Z   \n",
       "4            K-Y Love Sensuality Pleasure Gel  2016-12-21T00:00:00.000Z   \n",
       "\n",
       "  reviews_didPurchase reviews_doRecommend  reviews_rating  \\\n",
       "0             No Data                 NaN               5   \n",
       "1                True                 NaN               5   \n",
       "2                True                 NaN               5   \n",
       "3               False               False               1   \n",
       "4               False               False               1   \n",
       "\n",
       "                                                                                                                                                                                                                                                                                                                                                                                                                                                                                                          reviews_text  \\\n",
       "0                                                                                                                                                                                                                                                                                                            i love this album. it's very good. more to the hip hop side than her current pop sound.. SO HYPE! i listen to this everyday at the gym! i give it 5star rating all the way. her metaphors are just crazy.   \n",
       "1                                                                                                                                                                                                                                                                                                                                                                                                                                                       Good flavor. This review was collected as part of a promotion.   \n",
       "2                                                                                                                                                                                                                                                                                                                                                                                                                                                                                                         Good flavor.   \n",
       "3  I read through the reviews on here before looking in to buying one of the couples lubricants, and was ultimately disappointed that it didn't even live up to the reviews I had read. For starters, neither my boyfriend nor I could notice any sort of enhanced or 'captivating' sensation. What we did notice, however, was the messy consistency that was reminiscent of a more liquid-y vaseline. It was difficult to clean up, and was not a pleasant, especially since it lacked the 'captivating' sensatio...   \n",
       "4                                                                                                                                                                                                                                                                                                                                                                                 My husband bought this gel for us. The gel caused irritation and it felt like it was burning my skin. I wouldn't recommend this gel.   \n",
       "\n",
       "  reviews_title reviews_username user_sentiment  \n",
       "0  Just Awesome           joshua        Postive  \n",
       "1          Good        dorothy w        Postive  \n",
       "2          Good        dorothy w        Postive  \n",
       "3  Disappointed          rebecca       Negative  \n",
       "4    Irritation        walker557       Negative  "
      ]
     },
     "execution_count": 31,
     "metadata": {},
     "output_type": "execute_result"
    }
   ],
   "source": [
    "df['user_sentiment'] = df['reviews_rating'].apply(review_sentiment_clear)\n",
    "df.head()"
   ]
  },
  {
   "cell_type": "code",
   "execution_count": 32,
   "metadata": {
    "colab": {
     "base_uri": "https://localhost:8080/"
    },
    "executionInfo": {
     "elapsed": 23,
     "status": "ok",
     "timestamp": 1645887506696,
     "user": {
      "displayName": "Rizwan Ahmad",
      "photoUrl": "https://lh3.googleusercontent.com/a-/AOh14GgtPJUYELe4Sy9438Rs3-SuiOjqkt-H9xUsvAdC=s64",
      "userId": "15556863955443815182"
     },
     "user_tz": -330
    },
    "id": "OFhI8lAzeFdj",
    "outputId": "5f761289-d98b-41dc-d014-ae6bb0034d74"
   },
   "outputs": [
    {
     "data": {
      "text/plain": [
       "Postive     28196\n",
       "Negative     1804\n",
       "Name: user_sentiment, dtype: int64"
      ]
     },
     "execution_count": 32,
     "metadata": {},
     "output_type": "execute_result"
    }
   ],
   "source": [
    "# After corrections for user sentiment \n",
    "df['user_sentiment'].value_counts()"
   ]
  },
  {
   "cell_type": "markdown",
   "metadata": {
    "id": "m-dBr2tQfg8i"
   },
   "source": [
    "# 3. Text Preprocessing "
   ]
  },
  {
   "cell_type": "markdown",
   "metadata": {
    "id": "q7Z_N2ZXfUFe"
   },
   "source": [
    "### Text lower cased , removed Special Charater and lemmatized"
   ]
  },
  {
   "cell_type": "code",
   "execution_count": 33,
   "metadata": {
    "colab": {
     "base_uri": "https://localhost:8080/"
    },
    "executionInfo": {
     "elapsed": 553,
     "status": "ok",
     "timestamp": 1645887507231,
     "user": {
      "displayName": "Rizwan Ahmad",
      "photoUrl": "https://lh3.googleusercontent.com/a-/AOh14GgtPJUYELe4Sy9438Rs3-SuiOjqkt-H9xUsvAdC=s64",
      "userId": "15556863955443815182"
     },
     "user_tz": -330
    },
    "id": "-Xj4sH0ZO8vB",
    "outputId": "f1603f8c-8e2a-4df4-9014-fbb398cf4d94"
   },
   "outputs": [
    {
     "name": "stderr",
     "output_type": "stream",
     "text": [
      "[nltk_data] Downloading package punkt to\n",
      "[nltk_data]     C:\\Users\\Rizwan\\AppData\\Roaming\\nltk_data...\n",
      "[nltk_data]   Package punkt is already up-to-date!\n",
      "[nltk_data] Downloading package stopwords to\n",
      "[nltk_data]     C:\\Users\\Rizwan\\AppData\\Roaming\\nltk_data...\n",
      "[nltk_data]   Package stopwords is already up-to-date!\n",
      "[nltk_data] Downloading package wordnet to\n",
      "[nltk_data]     C:\\Users\\Rizwan\\AppData\\Roaming\\nltk_data...\n",
      "[nltk_data]   Package wordnet is already up-to-date!\n",
      "[nltk_data] Downloading package omw-1.4 to\n",
      "[nltk_data]     C:\\Users\\Rizwan\\AppData\\Roaming\\nltk_data...\n",
      "[nltk_data]   Package omw-1.4 is already up-to-date!\n"
     ]
    }
   ],
   "source": [
    "#Common functions for cleaning the text data \n",
    "import nltk\n",
    "from nltk.stem import LancasterStemmer\n",
    "from nltk.stem import WordNetLemmatizer\n",
    "nltk.download('punkt')\n",
    "nltk.download('stopwords')\n",
    "nltk.download('wordnet')\n",
    "nltk.download('omw-1.4')\n",
    "from nltk.corpus import stopwords\n",
    "import unicodedata\n",
    "from nltk.stem import WordNetLemmatizer\n",
    "from nltk.tokenize import word_tokenize, sent_tokenize, regexp_tokenize \n",
    "from nltk.stem import PorterStemmer, WordNetLemmatizer\n",
    "import re\n",
    "import html\n",
    "\n",
    "# special_characters removal\n",
    "def remove_special_characters(text, remove_digits=True):\n",
    "    \"\"\"Remove the special Characters\"\"\"\n",
    "    pattern = r'[^a-zA-z0-9\\s]' if not remove_digits else r'[^a-zA-z\\s]'\n",
    "    text = re.sub(pattern, '', text)\n",
    "    return text\n",
    "\n",
    "def to_lowercase(words):\n",
    "    \"\"\"Convert all characters to lowercase from list of tokenized words\"\"\"\n",
    "    new_words = []\n",
    "    for word in words:\n",
    "        new_word = word.lower()\n",
    "        new_words.append(new_word)\n",
    "    return new_words\n",
    "\n",
    "def remove_punctuation_and_splchars(words):\n",
    "    \"\"\"Remove punctuation from list of tokenized words\"\"\"\n",
    "    new_words = []\n",
    "    for word in words:\n",
    "        new_word = re.sub(r'[^\\w\\s]', '', word)\n",
    "        if new_word != '':\n",
    "            new_word = remove_special_characters(new_word, True)\n",
    "            new_words.append(new_word)\n",
    "    return new_words\n",
    "\n",
    "stopword_list= stopwords.words('english')\n",
    "\n",
    "def remove_stopwords(words):\n",
    "    \"\"\"Remove stop words from list of tokenized words\"\"\"\n",
    "    new_words = []\n",
    "    for word in words:\n",
    "        if word not in stopword_list:\n",
    "            new_words.append(word)\n",
    "    return new_words\n",
    "\n",
    "def stem_words(words):\n",
    "    \"\"\"Stem words in list of tokenized words\"\"\"\n",
    "    stemmer = LancasterStemmer()\n",
    "    stems = []\n",
    "    for word in words:\n",
    "        stem = stemmer.stem(word)\n",
    "        stems.append(stem)\n",
    "    return stems\n",
    "\n",
    "def lemmatize_verbs(words):\n",
    "    \"\"\"Lemmatize verbs in list of tokenized words\"\"\"\n",
    "    lemmatizer = WordNetLemmatizer()\n",
    "    lemmas = []\n",
    "    for word in words:\n",
    "        lemma = lemmatizer.lemmatize(word, pos='v')\n",
    "        lemmas.append(lemma)\n",
    "    return lemmas\n",
    "\n",
    "def normalize(words):\n",
    "    words = to_lowercase(words)\n",
    "    words = remove_punctuation_and_splchars(words)\n",
    "    words = remove_stopwords(words)\n",
    "    return words\n",
    "\n",
    "def lemmatize(words):\n",
    "    lemmas = lemmatize_verbs(words)\n",
    "    return lemmas"
   ]
  },
  {
   "cell_type": "code",
   "execution_count": 34,
   "metadata": {
    "executionInfo": {
     "elapsed": 10,
     "status": "ok",
     "timestamp": 1645887507233,
     "user": {
      "displayName": "Rizwan Ahmad",
      "photoUrl": "https://lh3.googleusercontent.com/a-/AOh14GgtPJUYELe4Sy9438Rs3-SuiOjqkt-H9xUsvAdC=s64",
      "userId": "15556863955443815182"
     },
     "user_tz": -330
    },
    "id": "X1fErMUiPGeY"
   },
   "outputs": [],
   "source": [
    "def normalize_and_lemmaize(input_text):\n",
    "    input_text = remove_special_characters(input_text)\n",
    "    words = nltk.word_tokenize(input_text)\n",
    "    words = normalize(words)\n",
    "    lemmas = lemmatize(words)\n",
    "    return ' '.join(lemmas)"
   ]
  },
  {
   "cell_type": "code",
   "execution_count": 35,
   "metadata": {
    "colab": {
     "base_uri": "https://localhost:8080/",
     "height": 337
    },
    "executionInfo": {
     "elapsed": 11,
     "status": "ok",
     "timestamp": 1645887507235,
     "user": {
      "displayName": "Rizwan Ahmad",
      "photoUrl": "https://lh3.googleusercontent.com/a-/AOh14GgtPJUYELe4Sy9438Rs3-SuiOjqkt-H9xUsvAdC=s64",
      "userId": "15556863955443815182"
     },
     "user_tz": -330
    },
    "id": "c_LplmC0giPz",
    "outputId": "5dc954f4-a6b5-4934-ed1a-7fdb98b55af3"
   },
   "outputs": [
    {
     "data": {
      "text/html": [
       "<div>\n",
       "<style scoped>\n",
       "    .dataframe tbody tr th:only-of-type {\n",
       "        vertical-align: middle;\n",
       "    }\n",
       "\n",
       "    .dataframe tbody tr th {\n",
       "        vertical-align: top;\n",
       "    }\n",
       "\n",
       "    .dataframe thead th {\n",
       "        text-align: right;\n",
       "    }\n",
       "</style>\n",
       "<table border=\"1\" class=\"dataframe\">\n",
       "  <thead>\n",
       "    <tr style=\"text-align: right;\">\n",
       "      <th></th>\n",
       "      <th>reviews_text</th>\n",
       "      <th>user_sentiment</th>\n",
       "    </tr>\n",
       "  </thead>\n",
       "  <tbody>\n",
       "    <tr>\n",
       "      <th>0</th>\n",
       "      <td>i love this album. it's very good. more to the hip hop side than her current pop sound.. SO HYPE! i listen to this everyday at the gym! i give it 5star rating all the way. her metaphors are just crazy.</td>\n",
       "      <td>Postive</td>\n",
       "    </tr>\n",
       "    <tr>\n",
       "      <th>1</th>\n",
       "      <td>Good flavor. This review was collected as part of a promotion.</td>\n",
       "      <td>Postive</td>\n",
       "    </tr>\n",
       "    <tr>\n",
       "      <th>2</th>\n",
       "      <td>Good flavor.</td>\n",
       "      <td>Postive</td>\n",
       "    </tr>\n",
       "    <tr>\n",
       "      <th>3</th>\n",
       "      <td>I read through the reviews on here before looking in to buying one of the couples lubricants, and was ultimately disappointed that it didn't even live up to the reviews I had read. For starters, neither my boyfriend nor I could notice any sort of enhanced or 'captivating' sensation. What we did notice, however, was the messy consistency that was reminiscent of a more liquid-y vaseline. It was difficult to clean up, and was not a pleasant, especially since it lacked the 'captivating' sensatio...</td>\n",
       "      <td>Negative</td>\n",
       "    </tr>\n",
       "    <tr>\n",
       "      <th>4</th>\n",
       "      <td>My husband bought this gel for us. The gel caused irritation and it felt like it was burning my skin. I wouldn't recommend this gel.</td>\n",
       "      <td>Negative</td>\n",
       "    </tr>\n",
       "  </tbody>\n",
       "</table>\n",
       "</div>"
      ],
      "text/plain": [
       "                                                                                                                                                                                                                                                                                                                                                                                                                                                                                                          reviews_text  \\\n",
       "0                                                                                                                                                                                                                                                                                                            i love this album. it's very good. more to the hip hop side than her current pop sound.. SO HYPE! i listen to this everyday at the gym! i give it 5star rating all the way. her metaphors are just crazy.   \n",
       "1                                                                                                                                                                                                                                                                                                                                                                                                                                                       Good flavor. This review was collected as part of a promotion.   \n",
       "2                                                                                                                                                                                                                                                                                                                                                                                                                                                                                                         Good flavor.   \n",
       "3  I read through the reviews on here before looking in to buying one of the couples lubricants, and was ultimately disappointed that it didn't even live up to the reviews I had read. For starters, neither my boyfriend nor I could notice any sort of enhanced or 'captivating' sensation. What we did notice, however, was the messy consistency that was reminiscent of a more liquid-y vaseline. It was difficult to clean up, and was not a pleasant, especially since it lacked the 'captivating' sensatio...   \n",
       "4                                                                                                                                                                                                                                                                                                                                                                                 My husband bought this gel for us. The gel caused irritation and it felt like it was burning my skin. I wouldn't recommend this gel.   \n",
       "\n",
       "  user_sentiment  \n",
       "0        Postive  \n",
       "1        Postive  \n",
       "2        Postive  \n",
       "3       Negative  \n",
       "4       Negative  "
      ]
     },
     "execution_count": 35,
     "metadata": {},
     "output_type": "execute_result"
    }
   ],
   "source": [
    "# Take the Review comment and user sentiment as dataframe \n",
    "review_df = df[['reviews_text','user_sentiment']]\n",
    "review_df.head()"
   ]
  },
  {
   "cell_type": "code",
   "execution_count": 36,
   "metadata": {
    "colab": {
     "base_uri": "https://localhost:8080/",
     "height": 600
    },
    "executionInfo": {
     "elapsed": 15236,
     "status": "ok",
     "timestamp": 1645887522461,
     "user": {
      "displayName": "Rizwan Ahmad",
      "photoUrl": "https://lh3.googleusercontent.com/a-/AOh14GgtPJUYELe4Sy9438Rs3-SuiOjqkt-H9xUsvAdC=s64",
      "userId": "15556863955443815182"
     },
     "user_tz": -330
    },
    "id": "z1UU5nbng9Od",
    "outputId": "4e1ae8c1-3476-446d-fe09-6e29fa679255"
   },
   "outputs": [
    {
     "name": "stderr",
     "output_type": "stream",
     "text": [
      "C:\\Users\\Rizwan\\AppData\\Local\\Temp/ipykernel_10132/3734498083.py:2: SettingWithCopyWarning:\n",
      "\n",
      "\n",
      "A value is trying to be set on a copy of a slice from a DataFrame.\n",
      "Try using .loc[row_indexer,col_indexer] = value instead\n",
      "\n",
      "See the caveats in the documentation: https://pandas.pydata.org/pandas-docs/stable/user_guide/indexing.html#returning-a-view-versus-a-copy\n",
      "\n"
     ]
    },
    {
     "data": {
      "text/html": [
       "<div>\n",
       "<style scoped>\n",
       "    .dataframe tbody tr th:only-of-type {\n",
       "        vertical-align: middle;\n",
       "    }\n",
       "\n",
       "    .dataframe tbody tr th {\n",
       "        vertical-align: top;\n",
       "    }\n",
       "\n",
       "    .dataframe thead th {\n",
       "        text-align: right;\n",
       "    }\n",
       "</style>\n",
       "<table border=\"1\" class=\"dataframe\">\n",
       "  <thead>\n",
       "    <tr style=\"text-align: right;\">\n",
       "      <th></th>\n",
       "      <th>reviews_text</th>\n",
       "      <th>user_sentiment</th>\n",
       "      <th>lemmatized_text</th>\n",
       "    </tr>\n",
       "  </thead>\n",
       "  <tbody>\n",
       "    <tr>\n",
       "      <th>0</th>\n",
       "      <td>i love this album. it's very good. more to the hip hop side than her current pop sound.. SO HYPE! i listen to this everyday at the gym! i give it 5star rating all the way. her metaphors are just crazy.</td>\n",
       "      <td>Postive</td>\n",
       "      <td>love album good hip hop side current pop sound hype listen everyday gym give star rat way metaphors crazy</td>\n",
       "    </tr>\n",
       "    <tr>\n",
       "      <th>1</th>\n",
       "      <td>Good flavor. This review was collected as part of a promotion.</td>\n",
       "      <td>Postive</td>\n",
       "      <td>good flavor review collect part promotion</td>\n",
       "    </tr>\n",
       "    <tr>\n",
       "      <th>2</th>\n",
       "      <td>Good flavor.</td>\n",
       "      <td>Postive</td>\n",
       "      <td>good flavor</td>\n",
       "    </tr>\n",
       "    <tr>\n",
       "      <th>3</th>\n",
       "      <td>I read through the reviews on here before looking in to buying one of the couples lubricants, and was ultimately disappointed that it didn't even live up to the reviews I had read. For starters, neither my boyfriend nor I could notice any sort of enhanced or 'captivating' sensation. What we did notice, however, was the messy consistency that was reminiscent of a more liquid-y vaseline. It was difficult to clean up, and was not a pleasant, especially since it lacked the 'captivating' sensatio...</td>\n",
       "      <td>Negative</td>\n",
       "      <td>read review look buy one couple lubricants ultimately disappoint didnt even live review read starters neither boyfriend could notice sort enhance captivate sensation notice however messy consistency reminiscent liquidy vaseline difficult clean pleasant especially since lack captivate sensation expect im disappoint pay much lube wont use could use normal personal lubricant less money less mess</td>\n",
       "    </tr>\n",
       "    <tr>\n",
       "      <th>4</th>\n",
       "      <td>My husband bought this gel for us. The gel caused irritation and it felt like it was burning my skin. I wouldn't recommend this gel.</td>\n",
       "      <td>Negative</td>\n",
       "      <td>husband buy gel us gel cause irritation felt like burn skin wouldnt recommend gel</td>\n",
       "    </tr>\n",
       "  </tbody>\n",
       "</table>\n",
       "</div>"
      ],
      "text/plain": [
       "                                                                                                                                                                                                                                                                                                                                                                                                                                                                                                          reviews_text  \\\n",
       "0                                                                                                                                                                                                                                                                                                            i love this album. it's very good. more to the hip hop side than her current pop sound.. SO HYPE! i listen to this everyday at the gym! i give it 5star rating all the way. her metaphors are just crazy.   \n",
       "1                                                                                                                                                                                                                                                                                                                                                                                                                                                       Good flavor. This review was collected as part of a promotion.   \n",
       "2                                                                                                                                                                                                                                                                                                                                                                                                                                                                                                         Good flavor.   \n",
       "3  I read through the reviews on here before looking in to buying one of the couples lubricants, and was ultimately disappointed that it didn't even live up to the reviews I had read. For starters, neither my boyfriend nor I could notice any sort of enhanced or 'captivating' sensation. What we did notice, however, was the messy consistency that was reminiscent of a more liquid-y vaseline. It was difficult to clean up, and was not a pleasant, especially since it lacked the 'captivating' sensatio...   \n",
       "4                                                                                                                                                                                                                                                                                                                                                                                 My husband bought this gel for us. The gel caused irritation and it felt like it was burning my skin. I wouldn't recommend this gel.   \n",
       "\n",
       "  user_sentiment  \\\n",
       "0        Postive   \n",
       "1        Postive   \n",
       "2        Postive   \n",
       "3       Negative   \n",
       "4       Negative   \n",
       "\n",
       "                                                                                                                                                                                                                                                                                                                                                                                               lemmatized_text  \n",
       "0                                                                                                                                                                                                                                                                                                    love album good hip hop side current pop sound hype listen everyday gym give star rat way metaphors crazy  \n",
       "1                                                                                                                                                                                                                                                                                                                                                                    good flavor review collect part promotion  \n",
       "2                                                                                                                                                                                                                                                                                                                                                                                                  good flavor  \n",
       "3  read review look buy one couple lubricants ultimately disappoint didnt even live review read starters neither boyfriend could notice sort enhance captivate sensation notice however messy consistency reminiscent liquidy vaseline difficult clean pleasant especially since lack captivate sensation expect im disappoint pay much lube wont use could use normal personal lubricant less money less mess  \n",
       "4                                                                                                                                                                                                                                                                                                                            husband buy gel us gel cause irritation felt like burn skin wouldnt recommend gel  "
      ]
     },
     "execution_count": 36,
     "metadata": {},
     "output_type": "execute_result"
    }
   ],
   "source": [
    "# create a new column lemmatized_review using the emmatize_text function\n",
    "review_df['lemmatized_text'] = review_df['reviews_text'].map(lambda text: normalize_and_lemmaize(text))\n",
    "review_df.head()"
   ]
  },
  {
   "cell_type": "code",
   "execution_count": 37,
   "metadata": {
    "colab": {
     "base_uri": "https://localhost:8080/",
     "height": 572
    },
    "executionInfo": {
     "elapsed": 24,
     "status": "ok",
     "timestamp": 1645887522463,
     "user": {
      "displayName": "Rizwan Ahmad",
      "photoUrl": "https://lh3.googleusercontent.com/a-/AOh14GgtPJUYELe4Sy9438Rs3-SuiOjqkt-H9xUsvAdC=s64",
      "userId": "15556863955443815182"
     },
     "user_tz": -330
    },
    "id": "LC6WmjFAqlli",
    "outputId": "e5430877-f235-4fcb-ba4f-c4c7048963f6"
   },
   "outputs": [
    {
     "data": {
      "text/html": [
       "<div>\n",
       "<style scoped>\n",
       "    .dataframe tbody tr th:only-of-type {\n",
       "        vertical-align: middle;\n",
       "    }\n",
       "\n",
       "    .dataframe tbody tr th {\n",
       "        vertical-align: top;\n",
       "    }\n",
       "\n",
       "    .dataframe thead th {\n",
       "        text-align: right;\n",
       "    }\n",
       "</style>\n",
       "<table border=\"1\" class=\"dataframe\">\n",
       "  <thead>\n",
       "    <tr style=\"text-align: right;\">\n",
       "      <th></th>\n",
       "      <th>lemmatized_text</th>\n",
       "      <th>user_sentiment</th>\n",
       "    </tr>\n",
       "  </thead>\n",
       "  <tbody>\n",
       "    <tr>\n",
       "      <th>0</th>\n",
       "      <td>love album good hip hop side current pop sound hype listen everyday gym give star rat way metaphors crazy</td>\n",
       "      <td>Postive</td>\n",
       "    </tr>\n",
       "    <tr>\n",
       "      <th>1</th>\n",
       "      <td>good flavor review collect part promotion</td>\n",
       "      <td>Postive</td>\n",
       "    </tr>\n",
       "    <tr>\n",
       "      <th>2</th>\n",
       "      <td>good flavor</td>\n",
       "      <td>Postive</td>\n",
       "    </tr>\n",
       "    <tr>\n",
       "      <th>3</th>\n",
       "      <td>read review look buy one couple lubricants ultimately disappoint didnt even live review read starters neither boyfriend could notice sort enhance captivate sensation notice however messy consistency reminiscent liquidy vaseline difficult clean pleasant especially since lack captivate sensation expect im disappoint pay much lube wont use could use normal personal lubricant less money less mess</td>\n",
       "      <td>Negative</td>\n",
       "    </tr>\n",
       "    <tr>\n",
       "      <th>4</th>\n",
       "      <td>husband buy gel us gel cause irritation felt like burn skin wouldnt recommend gel</td>\n",
       "      <td>Negative</td>\n",
       "    </tr>\n",
       "    <tr>\n",
       "      <th>...</th>\n",
       "      <td>...</td>\n",
       "      <td>...</td>\n",
       "    </tr>\n",
       "    <tr>\n",
       "      <th>29995</th>\n",
       "      <td>get conditioner influenster try im love far oily hair use end hair feel amaze soft mess review collect part promotion</td>\n",
       "      <td>Postive</td>\n",
       "    </tr>\n",
       "    <tr>\n",
       "      <th>29996</th>\n",
       "      <td>love receive review purpose influenster leave hair feel fresh smell great</td>\n",
       "      <td>Postive</td>\n",
       "    </tr>\n",
       "    <tr>\n",
       "      <th>29997</th>\n",
       "      <td>first love smell product wash hair smooth easy brush receive product influenster test purpose opinions review collect part promotion</td>\n",
       "      <td>Postive</td>\n",
       "    </tr>\n",
       "    <tr>\n",
       "      <th>29998</th>\n",
       "      <td>receive influenster never go back anything else normally dont use conditioner hair oily fine make hair feel heavy doesnt get oily day really fantastic plan buy future review collect part promotion</td>\n",
       "      <td>Postive</td>\n",
       "    </tr>\n",
       "    <tr>\n",
       "      <th>29999</th>\n",
       "      <td>receive product complimentary influenster really save hair product really give extra boost health strength bring hair back life hasnt help hair many ways review collect part promotion</td>\n",
       "      <td>Postive</td>\n",
       "    </tr>\n",
       "  </tbody>\n",
       "</table>\n",
       "<p>30000 rows × 2 columns</p>\n",
       "</div>"
      ],
      "text/plain": [
       "                                                                                                                                                                                                                                                                                                                                                                                                   lemmatized_text  \\\n",
       "0                                                                                                                                                                                                                                                                                                        love album good hip hop side current pop sound hype listen everyday gym give star rat way metaphors crazy   \n",
       "1                                                                                                                                                                                                                                                                                                                                                                        good flavor review collect part promotion   \n",
       "2                                                                                                                                                                                                                                                                                                                                                                                                      good flavor   \n",
       "3      read review look buy one couple lubricants ultimately disappoint didnt even live review read starters neither boyfriend could notice sort enhance captivate sensation notice however messy consistency reminiscent liquidy vaseline difficult clean pleasant especially since lack captivate sensation expect im disappoint pay much lube wont use could use normal personal lubricant less money less mess   \n",
       "4                                                                                                                                                                                                                                                                                                                                husband buy gel us gel cause irritation felt like burn skin wouldnt recommend gel   \n",
       "...                                                                                                                                                                                                                                                                                                                                                                                                            ...   \n",
       "29995                                                                                                                                                                                                                                                                                        get conditioner influenster try im love far oily hair use end hair feel amaze soft mess review collect part promotion   \n",
       "29996                                                                                                                                                                                                                                                                                                                                    love receive review purpose influenster leave hair feel fresh smell great   \n",
       "29997                                                                                                                                                                                                                                                                         first love smell product wash hair smooth easy brush receive product influenster test purpose opinions review collect part promotion   \n",
       "29998                                                                                                                                                                                                         receive influenster never go back anything else normally dont use conditioner hair oily fine make hair feel heavy doesnt get oily day really fantastic plan buy future review collect part promotion   \n",
       "29999                                                                                                                                                                                                                      receive product complimentary influenster really save hair product really give extra boost health strength bring hair back life hasnt help hair many ways review collect part promotion   \n",
       "\n",
       "      user_sentiment  \n",
       "0            Postive  \n",
       "1            Postive  \n",
       "2            Postive  \n",
       "3           Negative  \n",
       "4           Negative  \n",
       "...              ...  \n",
       "29995        Postive  \n",
       "29996        Postive  \n",
       "29997        Postive  \n",
       "29998        Postive  \n",
       "29999        Postive  \n",
       "\n",
       "[30000 rows x 2 columns]"
      ]
     },
     "execution_count": 37,
     "metadata": {},
     "output_type": "execute_result"
    }
   ],
   "source": [
    "# new dataframe with lemmatized text and user sentiment \n",
    "review_new_df = review_df[['lemmatized_text','user_sentiment']]\n",
    "review_new_df"
   ]
  },
  {
   "cell_type": "code",
   "execution_count": 38,
   "metadata": {
    "colab": {
     "base_uri": "https://localhost:8080/",
     "height": 461
    },
    "executionInfo": {
     "elapsed": 24,
     "status": "ok",
     "timestamp": 1645887522465,
     "user": {
      "displayName": "Rizwan Ahmad",
      "photoUrl": "https://lh3.googleusercontent.com/a-/AOh14GgtPJUYELe4Sy9438Rs3-SuiOjqkt-H9xUsvAdC=s64",
      "userId": "15556863955443815182"
     },
     "user_tz": -330
    },
    "id": "GDzbUu7eOztS",
    "outputId": "2e393c77-fd06-457b-b8fc-c121261edfee"
   },
   "outputs": [
    {
     "name": "stderr",
     "output_type": "stream",
     "text": [
      "C:\\Users\\Rizwan\\AppData\\Local\\Temp/ipykernel_10132/125465557.py:2: SettingWithCopyWarning:\n",
      "\n",
      "\n",
      "A value is trying to be set on a copy of a slice from a DataFrame.\n",
      "Try using .loc[row_indexer,col_indexer] = value instead\n",
      "\n",
      "See the caveats in the documentation: https://pandas.pydata.org/pandas-docs/stable/user_guide/indexing.html#returning-a-view-versus-a-copy\n",
      "\n"
     ]
    },
    {
     "data": {
      "text/html": [
       "<div>\n",
       "<style scoped>\n",
       "    .dataframe tbody tr th:only-of-type {\n",
       "        vertical-align: middle;\n",
       "    }\n",
       "\n",
       "    .dataframe tbody tr th {\n",
       "        vertical-align: top;\n",
       "    }\n",
       "\n",
       "    .dataframe thead th {\n",
       "        text-align: right;\n",
       "    }\n",
       "</style>\n",
       "<table border=\"1\" class=\"dataframe\">\n",
       "  <thead>\n",
       "    <tr style=\"text-align: right;\">\n",
       "      <th></th>\n",
       "      <th>lemmatized_text</th>\n",
       "      <th>user_sentiment</th>\n",
       "    </tr>\n",
       "  </thead>\n",
       "  <tbody>\n",
       "    <tr>\n",
       "      <th>0</th>\n",
       "      <td>love album good hip hop side current pop sound hype listen everyday gym give star rat way metaphors crazy</td>\n",
       "      <td>1</td>\n",
       "    </tr>\n",
       "    <tr>\n",
       "      <th>1</th>\n",
       "      <td>good flavor review collect part promotion</td>\n",
       "      <td>1</td>\n",
       "    </tr>\n",
       "    <tr>\n",
       "      <th>2</th>\n",
       "      <td>good flavor</td>\n",
       "      <td>1</td>\n",
       "    </tr>\n",
       "    <tr>\n",
       "      <th>3</th>\n",
       "      <td>read review look buy one couple lubricants ultimately disappoint didnt even live review read starters neither boyfriend could notice sort enhance captivate sensation notice however messy consistency reminiscent liquidy vaseline difficult clean pleasant especially since lack captivate sensation expect im disappoint pay much lube wont use could use normal personal lubricant less money less mess</td>\n",
       "      <td>0</td>\n",
       "    </tr>\n",
       "    <tr>\n",
       "      <th>4</th>\n",
       "      <td>husband buy gel us gel cause irritation felt like burn skin wouldnt recommend gel</td>\n",
       "      <td>0</td>\n",
       "    </tr>\n",
       "  </tbody>\n",
       "</table>\n",
       "</div>"
      ],
      "text/plain": [
       "                                                                                                                                                                                                                                                                                                                                                                                               lemmatized_text  \\\n",
       "0                                                                                                                                                                                                                                                                                                    love album good hip hop side current pop sound hype listen everyday gym give star rat way metaphors crazy   \n",
       "1                                                                                                                                                                                                                                                                                                                                                                    good flavor review collect part promotion   \n",
       "2                                                                                                                                                                                                                                                                                                                                                                                                  good flavor   \n",
       "3  read review look buy one couple lubricants ultimately disappoint didnt even live review read starters neither boyfriend could notice sort enhance captivate sensation notice however messy consistency reminiscent liquidy vaseline difficult clean pleasant especially since lack captivate sensation expect im disappoint pay much lube wont use could use normal personal lubricant less money less mess   \n",
       "4                                                                                                                                                                                                                                                                                                                            husband buy gel us gel cause irritation felt like burn skin wouldnt recommend gel   \n",
       "\n",
       "   user_sentiment  \n",
       "0               1  \n",
       "1               1  \n",
       "2               1  \n",
       "3               0  \n",
       "4               0  "
      ]
     },
     "execution_count": 38,
     "metadata": {},
     "output_type": "execute_result"
    }
   ],
   "source": [
    "#Encode the negative and postive to 0 and 1 respectively \n",
    "review_new_df['user_sentiment'] = review_new_df['user_sentiment'].map({'Negative':0,'Postive':1})\n",
    "review_new_df.head()"
   ]
  },
  {
   "cell_type": "markdown",
   "metadata": {
    "id": "4GUotHOkNx8b"
   },
   "source": [
    "### Dividing the dataset into train and test data and handle the class imbalance"
   ]
  },
  {
   "cell_type": "code",
   "execution_count": 39,
   "metadata": {},
   "outputs": [],
   "source": [
    "#pip install imblearn"
   ]
  },
  {
   "cell_type": "code",
   "execution_count": 40,
   "metadata": {},
   "outputs": [],
   "source": [
    "#pip install scikit-learn"
   ]
  },
  {
   "cell_type": "code",
   "execution_count": 41,
   "metadata": {
    "executionInfo": {
     "elapsed": 20,
     "status": "ok",
     "timestamp": 1645887522466,
     "user": {
      "displayName": "Rizwan Ahmad",
      "photoUrl": "https://lh3.googleusercontent.com/a-/AOh14GgtPJUYELe4Sy9438Rs3-SuiOjqkt-H9xUsvAdC=s64",
      "userId": "15556863955443815182"
     },
     "user_tz": -330
    },
    "id": "NiPFP6wNQNvW"
   },
   "outputs": [],
   "source": [
    "from collections import Counter\n",
    "#import imblearn\n",
    "from imblearn.over_sampling import SMOTE"
   ]
  },
  {
   "cell_type": "code",
   "execution_count": 42,
   "metadata": {
    "colab": {
     "base_uri": "https://localhost:8080/"
    },
    "executionInfo": {
     "elapsed": 19,
     "status": "ok",
     "timestamp": 1645887522466,
     "user": {
      "displayName": "Rizwan Ahmad",
      "photoUrl": "https://lh3.googleusercontent.com/a-/AOh14GgtPJUYELe4Sy9438Rs3-SuiOjqkt-H9xUsvAdC=s64",
      "userId": "15556863955443815182"
     },
     "user_tz": -330
    },
    "id": "oBUn9apwNvqy",
    "outputId": "6be357fe-0592-4694-b28d-6113e3875177"
   },
   "outputs": [
    {
     "data": {
      "text/plain": [
       "1    21147\n",
       "0     1353\n",
       "Name: user_sentiment, dtype: int64"
      ]
     },
     "execution_count": 42,
     "metadata": {},
     "output_type": "execute_result"
    }
   ],
   "source": [
    "# Train and Test Divide\n",
    "x_train,x_test,y_train,y_test = train_test_split(review_new_df['lemmatized_text'],review_new_df['user_sentiment'],train_size=0.75,random_state=45,stratify=review_new_df['user_sentiment'])\n",
    "y_train.value_counts()"
   ]
  },
  {
   "cell_type": "markdown",
   "metadata": {
    "id": "qV95Tts0ejDm"
   },
   "source": [
    "# 4. Feature Extraction using Count Vectorizer and TFIDF Transformer "
   ]
  },
  {
   "cell_type": "code",
   "execution_count": 43,
   "metadata": {
    "colab": {
     "base_uri": "https://localhost:8080/"
    },
    "executionInfo": {
     "elapsed": 1007,
     "status": "ok",
     "timestamp": 1645887523457,
     "user": {
      "displayName": "Rizwan Ahmad",
      "photoUrl": "https://lh3.googleusercontent.com/a-/AOh14GgtPJUYELe4Sy9438Rs3-SuiOjqkt-H9xUsvAdC=s64",
      "userId": "15556863955443815182"
     },
     "user_tz": -330
    },
    "id": "8E-Yh3P5pAe8",
    "outputId": "b54ee6a0-0b56-4eab-e723-3b9b7d9b97c3"
   },
   "outputs": [
    {
     "data": {
      "text/plain": [
       "(22500, 14711)"
      ]
     },
     "execution_count": 43,
     "metadata": {},
     "output_type": "execute_result"
    }
   ],
   "source": [
    "from sklearn.feature_extraction.text import TfidfTransformer\n",
    "count_vect = CountVectorizer()\n",
    "x_count = count_vect.fit_transform(x_train)\n",
    "\n",
    "\n",
    "tfidf_transformer = TfidfTransformer()\n",
    "x_train_transformed = tfidf_transformer.fit_transform(x_count)\n",
    "x_train_transformed.shape"
   ]
  },
  {
   "cell_type": "code",
   "execution_count": 44,
   "metadata": {
    "executionInfo": {
     "elapsed": 384,
     "status": "ok",
     "timestamp": 1645887583426,
     "user": {
      "displayName": "Rizwan Ahmad",
      "photoUrl": "https://lh3.googleusercontent.com/a-/AOh14GgtPJUYELe4Sy9438Rs3-SuiOjqkt-H9xUsvAdC=s64",
      "userId": "15556863955443815182"
     },
     "user_tz": -330
    },
    "id": "u3cePPl0fe9B"
   },
   "outputs": [
    {
     "ename": "FileNotFoundError",
     "evalue": "[Errno 2] No such file or directory: 'C:\\\\Users\\\\Rizwan\\\\Desktop\\\\SBPRS4\\\\pickle_file\\\\count_vector.pkl'",
     "output_type": "error",
     "traceback": [
      "\u001b[1;31m---------------------------------------------------------------------------\u001b[0m",
      "\u001b[1;31mFileNotFoundError\u001b[0m                         Traceback (most recent call last)",
      "\u001b[1;32m~\\AppData\\Local\\Temp/ipykernel_10132/4250861600.py\u001b[0m in \u001b[0;36m<module>\u001b[1;34m\u001b[0m\n\u001b[0;32m      1\u001b[0m \u001b[1;31m#creating the pickle for countvectorizer and TFIDF Transformer\u001b[0m\u001b[1;33m\u001b[0m\u001b[1;33m\u001b[0m\u001b[0m\n\u001b[0;32m      2\u001b[0m \u001b[1;32mimport\u001b[0m \u001b[0mpickle\u001b[0m\u001b[1;33m\u001b[0m\u001b[1;33m\u001b[0m\u001b[0m\n\u001b[1;32m----> 3\u001b[1;33m \u001b[0mpickle\u001b[0m\u001b[1;33m.\u001b[0m\u001b[0mdump\u001b[0m\u001b[1;33m(\u001b[0m\u001b[0mcount_vect\u001b[0m\u001b[1;33m,\u001b[0m\u001b[0mopen\u001b[0m\u001b[1;33m(\u001b[0m\u001b[0mmydrive_path\u001b[0m\u001b[1;33m+\u001b[0m\u001b[1;34m'\\\\pickle_file\\\\count_vector.pkl'\u001b[0m\u001b[1;33m,\u001b[0m\u001b[1;34m'wb'\u001b[0m\u001b[1;33m)\u001b[0m\u001b[1;33m)\u001b[0m\u001b[1;33m\u001b[0m\u001b[1;33m\u001b[0m\u001b[0m\n\u001b[0m\u001b[0;32m      4\u001b[0m \u001b[0mpickle\u001b[0m\u001b[1;33m.\u001b[0m\u001b[0mdump\u001b[0m\u001b[1;33m(\u001b[0m\u001b[0mtfidf_transformer\u001b[0m\u001b[1;33m,\u001b[0m\u001b[0mopen\u001b[0m\u001b[1;33m(\u001b[0m\u001b[0mmydrive_path\u001b[0m\u001b[1;33m+\u001b[0m\u001b[1;34m'\\\\pickle_file\\\\tfidf_transformer.pkl'\u001b[0m\u001b[1;33m,\u001b[0m\u001b[1;34m'wb'\u001b[0m\u001b[1;33m)\u001b[0m\u001b[1;33m)\u001b[0m\u001b[1;33m\u001b[0m\u001b[1;33m\u001b[0m\u001b[0m\n",
      "\u001b[1;31mFileNotFoundError\u001b[0m: [Errno 2] No such file or directory: 'C:\\\\Users\\\\Rizwan\\\\Desktop\\\\SBPRS4\\\\pickle_file\\\\count_vector.pkl'"
     ]
    }
   ],
   "source": [
    "#creating the pickle for countvectorizer and TFIDF Transformer\n",
    "import pickle\n",
    "pickle.dump(count_vect,open(mydrive_path+'\\\\pickle_file\\\\count_vector.pkl','wb'))\n",
    "pickle.dump(tfidf_transformer,open(mydrive_path+'\\\\pickle_file\\\\tfidf_transformer.pkl','wb'))"
   ]
  },
  {
   "cell_type": "code",
   "execution_count": null,
   "metadata": {
    "colab": {
     "base_uri": "https://localhost:8080/"
    },
    "executionInfo": {
     "elapsed": 671,
     "status": "ok",
     "timestamp": 1645887584825,
     "user": {
      "displayName": "Rizwan Ahmad",
      "photoUrl": "https://lh3.googleusercontent.com/a-/AOh14GgtPJUYELe4Sy9438Rs3-SuiOjqkt-H9xUsvAdC=s64",
      "userId": "15556863955443815182"
     },
     "user_tz": -330
    },
    "id": "ib78-v6CQjgb",
    "outputId": "08a601f3-562b-41b8-9d08-17ba449cd214"
   },
   "outputs": [],
   "source": [
    "count = Counter(y_train)\n",
    "print('Before sampling :',count)\n",
    "\n",
    "sampler = SMOTE()\n",
    "\n",
    "x_train_sm,y_train_sm = sampler.fit_resample(x_train_transformed,y_train)\n",
    "\n",
    "count = Counter(y_train_sm)\n",
    "print('After sampling :',count)"
   ]
  },
  {
   "cell_type": "markdown",
   "metadata": {
    "id": "d5bkB9k8e0r-"
   },
   "source": [
    "# 5. Training text classification model\n",
    "- Logistic Regression\n",
    "- Random Forest Classifer\n",
    "- XGBoost\n",
    "#### Choose the best model with hyperparameter tuning "
   ]
  },
  {
   "cell_type": "code",
   "execution_count": null,
   "metadata": {
    "executionInfo": {
     "elapsed": 17,
     "status": "ok",
     "timestamp": 1645887584826,
     "user": {
      "displayName": "Rizwan Ahmad",
      "photoUrl": "https://lh3.googleusercontent.com/a-/AOh14GgtPJUYELe4Sy9438Rs3-SuiOjqkt-H9xUsvAdC=s64",
      "userId": "15556863955443815182"
     },
     "user_tz": -330
    },
    "id": "KLJvUU_meZwT"
   },
   "outputs": [],
   "source": [
    "# Function for Metrics\n",
    "performance=[]\n",
    "\n",
    "def model_metrics(y,y_pred,model_name,metrics):\n",
    "  Accuracy = accuracy_score(y,y_pred)\n",
    "  roc = roc_auc_score(y,y_pred)\n",
    "  confusion = confusion_matrix(y,y_pred)\n",
    "  precision = precision_score(y,y_pred)\n",
    "  f1 = f1_score(y,y_pred)\n",
    "  TP = confusion[1,1]  # true positive\n",
    "  TN = confusion[0,0]  # true negatives\n",
    "  FP = confusion[0,1]  # false positives\n",
    "  FN = confusion[1,0]  # false negatives\n",
    "  sensitivity= TP / float(TP+FN)\n",
    "  specificity = TN / float(TN+FP)\n",
    "\n",
    "  print(\"*\"*50)\n",
    "  print('Confusion Matrix =')\n",
    "  print(confusion)\n",
    "  print(\"sensitivity of the %s = %f\" % (model_name,round(sensitivity,2)))\n",
    "  print(\"specificity of the %s = %f\" % (model_name,round(specificity,2)))\n",
    "  print(\"Accuracy Score of %s = %f\" % (model_name,Accuracy))\n",
    "  print('ROC AUC score of %s = %f' % (model_name,roc))\n",
    "  print(\"Report=\",)\n",
    "  print(classification_report(y,y_pred))\n",
    "  print(\"*\"*50)\n",
    "  metrics.append(dict({'Model_name':model_name,\n",
    "                       'Accuracy':Accuracy,\n",
    "                       'Roc_auc_score':roc,\n",
    "                       'Precision':precision,\n",
    "                       'F1_score':f1}))\n",
    "  return metrics\n",
    "\n"
   ]
  },
  {
   "cell_type": "markdown",
   "metadata": {
    "id": "Djg-6hZMbSFB"
   },
   "source": [
    "## Logistic Regression"
   ]
  },
  {
   "cell_type": "code",
   "execution_count": null,
   "metadata": {
    "colab": {
     "base_uri": "https://localhost:8080/"
    },
    "executionInfo": {
     "elapsed": 1854,
     "status": "ok",
     "timestamp": 1645887586666,
     "user": {
      "displayName": "Rizwan Ahmad",
      "photoUrl": "https://lh3.googleusercontent.com/a-/AOh14GgtPJUYELe4Sy9438Rs3-SuiOjqkt-H9xUsvAdC=s64",
      "userId": "15556863955443815182"
     },
     "user_tz": -330
    },
    "id": "b5Mc9oqkgEAm",
    "outputId": "15978ee6-f800-4051-e1f9-28855f4d6013"
   },
   "outputs": [],
   "source": [
    "# 1. Logsitic Regression \n",
    "lr = LogisticRegression()\n",
    "lr.fit(x_train_sm,y_train_sm)"
   ]
  },
  {
   "cell_type": "code",
   "execution_count": null,
   "metadata": {
    "colab": {
     "base_uri": "https://localhost:8080/"
    },
    "executionInfo": {
     "elapsed": 23,
     "status": "ok",
     "timestamp": 1645887586667,
     "user": {
      "displayName": "Rizwan Ahmad",
      "photoUrl": "https://lh3.googleusercontent.com/a-/AOh14GgtPJUYELe4Sy9438Rs3-SuiOjqkt-H9xUsvAdC=s64",
      "userId": "15556863955443815182"
     },
     "user_tz": -330
    },
    "id": "qVufPwb1gze3",
    "outputId": "89de8618-5ab1-4133-bc72-78b48e441b68"
   },
   "outputs": [],
   "source": [
    "y_pred = lr.predict(x_train_sm)\n",
    "peformance = model_metrics(y_train_sm,y_pred,'Logistic Regression',performance)"
   ]
  },
  {
   "cell_type": "markdown",
   "metadata": {
    "id": "qLQ9l0BBbb9G"
   },
   "source": [
    "## RandomForest Classifier"
   ]
  },
  {
   "cell_type": "code",
   "execution_count": null,
   "metadata": {
    "colab": {
     "base_uri": "https://localhost:8080/"
    },
    "executionInfo": {
     "elapsed": 32429,
     "status": "ok",
     "timestamp": 1645887619088,
     "user": {
      "displayName": "Rizwan Ahmad",
      "photoUrl": "https://lh3.googleusercontent.com/a-/AOh14GgtPJUYELe4Sy9438Rs3-SuiOjqkt-H9xUsvAdC=s64",
      "userId": "15556863955443815182"
     },
     "user_tz": -330
    },
    "id": "Bavrjh6HhLVx",
    "outputId": "bf2d8c7b-61c2-47c1-b12e-761bc0ab6e7c"
   },
   "outputs": [],
   "source": [
    "# 2. RandomForest Classifier\n",
    "rf = RandomForestClassifier()\n",
    "rf.fit(x_train_sm,y_train_sm)"
   ]
  },
  {
   "cell_type": "code",
   "execution_count": null,
   "metadata": {
    "colab": {
     "base_uri": "https://localhost:8080/"
    },
    "executionInfo": {
     "elapsed": 1433,
     "status": "ok",
     "timestamp": 1645887620507,
     "user": {
      "displayName": "Rizwan Ahmad",
      "photoUrl": "https://lh3.googleusercontent.com/a-/AOh14GgtPJUYELe4Sy9438Rs3-SuiOjqkt-H9xUsvAdC=s64",
      "userId": "15556863955443815182"
     },
     "user_tz": -330
    },
    "id": "lRI9K5edhj1g",
    "outputId": "026945dc-3aca-44f5-d985-8369eef7fd0a"
   },
   "outputs": [],
   "source": [
    "y_pred_rf = rf.predict(x_train_sm)\n",
    "performance = model_metrics(y_train_sm,y_pred_rf,'RandomForestClassifier',performance)"
   ]
  },
  {
   "cell_type": "markdown",
   "metadata": {
    "id": "yzBhfZP42OUY"
   },
   "source": [
    "## AdaBoost Classifier"
   ]
  },
  {
   "cell_type": "code",
   "execution_count": null,
   "metadata": {
    "colab": {
     "base_uri": "https://localhost:8080/"
    },
    "executionInfo": {
     "elapsed": 45564,
     "status": "ok",
     "timestamp": 1645887666059,
     "user": {
      "displayName": "Rizwan Ahmad",
      "photoUrl": "https://lh3.googleusercontent.com/a-/AOh14GgtPJUYELe4Sy9438Rs3-SuiOjqkt-H9xUsvAdC=s64",
      "userId": "15556863955443815182"
     },
     "user_tz": -330
    },
    "id": "pun537ts2NfC",
    "outputId": "91de2edb-971e-48c7-cafd-f6152a439795"
   },
   "outputs": [],
   "source": [
    "xgba = GradientBoostingClassifier()\n",
    "xgba.fit(x_train_sm,y_train_sm)\n",
    "y_pred_xgb = xgba.predict(x_train_sm)\n",
    "peformance = model_metrics(y_train_sm,y_pred_rf,'AdaBoostclassifier',peformance)\n",
    "\n"
   ]
  },
  {
   "cell_type": "markdown",
   "metadata": {
    "id": "PUzqxCRWbsY5"
   },
   "source": [
    "## XGBoost"
   ]
  },
  {
   "cell_type": "code",
   "execution_count": null,
   "metadata": {
    "executionInfo": {
     "elapsed": 44,
     "status": "ok",
     "timestamp": 1645887666061,
     "user": {
      "displayName": "Rizwan Ahmad",
      "photoUrl": "https://lh3.googleusercontent.com/a-/AOh14GgtPJUYELe4Sy9438Rs3-SuiOjqkt-H9xUsvAdC=s64",
      "userId": "15556863955443815182"
     },
     "user_tz": -330
    },
    "id": "1pRa-lmCXw-8"
   },
   "outputs": [],
   "source": [
    "import xgboost as xgb"
   ]
  },
  {
   "cell_type": "code",
   "execution_count": null,
   "metadata": {
    "colab": {
     "base_uri": "https://localhost:8080/"
    },
    "executionInfo": {
     "elapsed": 16252,
     "status": "ok",
     "timestamp": 1645887682273,
     "user": {
      "displayName": "Rizwan Ahmad",
      "photoUrl": "https://lh3.googleusercontent.com/a-/AOh14GgtPJUYELe4Sy9438Rs3-SuiOjqkt-H9xUsvAdC=s64",
      "userId": "15556863955443815182"
     },
     "user_tz": -330
    },
    "id": "kEURisDoVXei",
    "outputId": "f8287a51-081b-420d-b069-ec4aff6c332d"
   },
   "outputs": [],
   "source": [
    "#4.XGBoostClassifier\n",
    "xgb_classifier = xgb.XGBClassifier()\n",
    "xgb_classifier.fit(x_train_sm,y_train_sm)\n",
    "y_pred_xgbc = xgb_classifier.predict(x_train_sm)\n",
    "peformance = model_metrics(y_train_sm,y_pred_xgbc,'XGBClassifier',peformance)\n"
   ]
  },
  {
   "cell_type": "code",
   "execution_count": null,
   "metadata": {
    "colab": {
     "base_uri": "https://localhost:8080/",
     "height": 175
    },
    "executionInfo": {
     "elapsed": 41,
     "status": "ok",
     "timestamp": 1645887682276,
     "user": {
      "displayName": "Rizwan Ahmad",
      "photoUrl": "https://lh3.googleusercontent.com/a-/AOh14GgtPJUYELe4Sy9438Rs3-SuiOjqkt-H9xUsvAdC=s64",
      "userId": "15556863955443815182"
     },
     "user_tz": -330
    },
    "id": "44OYm5eFCTYB",
    "outputId": "8d3afde4-6929-4429-f910-1d890a690dad"
   },
   "outputs": [],
   "source": [
    "metrics_df = pd.DataFrame(performance)\n",
    "metrics_df"
   ]
  },
  {
   "cell_type": "markdown",
   "metadata": {
    "id": "6oqn0baADlIG"
   },
   "source": [
    "## Hyperparameter Tuning of models "
   ]
  },
  {
   "cell_type": "code",
   "execution_count": null,
   "metadata": {
    "executionInfo": {
     "elapsed": 38,
     "status": "ok",
     "timestamp": 1645887682277,
     "user": {
      "displayName": "Rizwan Ahmad",
      "photoUrl": "https://lh3.googleusercontent.com/a-/AOh14GgtPJUYELe4Sy9438Rs3-SuiOjqkt-H9xUsvAdC=s64",
      "userId": "15556863955443815182"
     },
     "user_tz": -330
    },
    "id": "4BWxBjm1kpeq"
   },
   "outputs": [],
   "source": [
    "n_estimators = [200,400,600]\n",
    "max_depth = [6,10,15]\n",
    "min_samples_leaf = [5,6,8]\n",
    "criterion  = ['gini','entropy']\n",
    "params = {'n_estimators':n_estimators,\n",
    "          'max_depth':max_depth,\n",
    "          'min_samples_leaf': min_samples_leaf,\n",
    "          'criterion':criterion}"
   ]
  },
  {
   "cell_type": "code",
   "execution_count": null,
   "metadata": {
    "executionInfo": {
     "elapsed": 38,
     "status": "ok",
     "timestamp": 1645887682278,
     "user": {
      "displayName": "Rizwan Ahmad",
      "photoUrl": "https://lh3.googleusercontent.com/a-/AOh14GgtPJUYELe4Sy9438Rs3-SuiOjqkt-H9xUsvAdC=s64",
      "userId": "15556863955443815182"
     },
     "user_tz": -330
    },
    "id": "r90288UlnK-j"
   },
   "outputs": [],
   "source": [
    "grid_cv = GridSearchCV(estimator=rf,\n",
    "                       param_grid=params,\n",
    "                       n_jobs = -1,\n",
    "                       scoring = 'roc_auc',\n",
    "                       verbose = 1)"
   ]
  },
  {
   "cell_type": "code",
   "execution_count": null,
   "metadata": {
    "colab": {
     "base_uri": "https://localhost:8080/"
    },
    "executionInfo": {
     "elapsed": 1744104,
     "status": "ok",
     "timestamp": 1645889426345,
     "user": {
      "displayName": "Rizwan Ahmad",
      "photoUrl": "https://lh3.googleusercontent.com/a-/AOh14GgtPJUYELe4Sy9438Rs3-SuiOjqkt-H9xUsvAdC=s64",
      "userId": "15556863955443815182"
     },
     "user_tz": -330
    },
    "id": "SJ5J6WczoGt9",
    "outputId": "8a46d8c8-d376-44af-f3be-dd49cd85c6ff"
   },
   "outputs": [],
   "source": [
    "grid_cv.fit(x_train_sm,y_train_sm)"
   ]
  },
  {
   "cell_type": "code",
   "execution_count": null,
   "metadata": {
    "colab": {
     "base_uri": "https://localhost:8080/"
    },
    "executionInfo": {
     "elapsed": 49,
     "status": "ok",
     "timestamp": 1645889426345,
     "user": {
      "displayName": "Rizwan Ahmad",
      "photoUrl": "https://lh3.googleusercontent.com/a-/AOh14GgtPJUYELe4Sy9438Rs3-SuiOjqkt-H9xUsvAdC=s64",
      "userId": "15556863955443815182"
     },
     "user_tz": -330
    },
    "id": "SmYsC2f7oZCU",
    "outputId": "8f6fe570-ef9f-4387-b0e9-88df052b9c00"
   },
   "outputs": [],
   "source": [
    "rf_final=grid_cv.best_estimator_\n",
    "rf_final"
   ]
  },
  {
   "cell_type": "code",
   "execution_count": null,
   "metadata": {
    "executionInfo": {
     "elapsed": 35,
     "status": "ok",
     "timestamp": 1645889426346,
     "user": {
      "displayName": "Rizwan Ahmad",
      "photoUrl": "https://lh3.googleusercontent.com/a-/AOh14GgtPJUYELe4Sy9438Rs3-SuiOjqkt-H9xUsvAdC=s64",
      "userId": "15556863955443815182"
     },
     "user_tz": -330
    },
    "id": "qxfCPwwlyKOk"
   },
   "outputs": [],
   "source": [
    "pickle.dump(rf_final,open(mydrive_path+'\\\\pickle_file\\\\RandomForest_classifier.pkl','wb'))"
   ]
  },
  {
   "cell_type": "code",
   "execution_count": null,
   "metadata": {
    "colab": {
     "base_uri": "https://localhost:8080/"
    },
    "executionInfo": {
     "elapsed": 34,
     "status": "ok",
     "timestamp": 1645889426346,
     "user": {
      "displayName": "Rizwan Ahmad",
      "photoUrl": "https://lh3.googleusercontent.com/a-/AOh14GgtPJUYELe4Sy9438Rs3-SuiOjqkt-H9xUsvAdC=s64",
      "userId": "15556863955443815182"
     },
     "user_tz": -330
    },
    "id": "P09oebD1wppG",
    "outputId": "965deac8-46e5-4320-e9b5-fd7bbd237b6e"
   },
   "outputs": [],
   "source": [
    "grid_cv.best_score_"
   ]
  },
  {
   "cell_type": "code",
   "execution_count": null,
   "metadata": {
    "colab": {
     "base_uri": "https://localhost:8080/"
    },
    "executionInfo": {
     "elapsed": 4263,
     "status": "ok",
     "timestamp": 1645889430584,
     "user": {
      "displayName": "Rizwan Ahmad",
      "photoUrl": "https://lh3.googleusercontent.com/a-/AOh14GgtPJUYELe4Sy9438Rs3-SuiOjqkt-H9xUsvAdC=s64",
      "userId": "15556863955443815182"
     },
     "user_tz": -330
    },
    "id": "FEPuyR0mwt0v",
    "outputId": "cdf5f08f-4ea9-4acc-9e89-e28a09e46fb0"
   },
   "outputs": [],
   "source": [
    "y_pred_rfgcv = rf_final.predict(x_train_sm)\n",
    "performance = model_metrics(y_train_sm,y_pred_rfgcv,'RandomForestClassifier with hyperparmater',performance)"
   ]
  },
  {
   "cell_type": "code",
   "execution_count": null,
   "metadata": {
    "executionInfo": {
     "elapsed": 31,
     "status": "ok",
     "timestamp": 1645889430585,
     "user": {
      "displayName": "Rizwan Ahmad",
      "photoUrl": "https://lh3.googleusercontent.com/a-/AOh14GgtPJUYELe4Sy9438Rs3-SuiOjqkt-H9xUsvAdC=s64",
      "userId": "15556863955443815182"
     },
     "user_tz": -330
    },
    "id": "lsEmmtxhxo8i"
   },
   "outputs": [],
   "source": [
    "n_estimators = [200,400,600]\n",
    "params_1 = {'n_estimators':n_estimators}   "
   ]
  },
  {
   "cell_type": "code",
   "execution_count": null,
   "metadata": {
    "executionInfo": {
     "elapsed": 28,
     "status": "ok",
     "timestamp": 1645889430586,
     "user": {
      "displayName": "Rizwan Ahmad",
      "photoUrl": "https://lh3.googleusercontent.com/a-/AOh14GgtPJUYELe4Sy9438Rs3-SuiOjqkt-H9xUsvAdC=s64",
      "userId": "15556863955443815182"
     },
     "user_tz": -330
    },
    "id": "GO8cGP0vyae6"
   },
   "outputs": [],
   "source": [
    "grid_cv_boost = GridSearchCV(estimator=xgba,\n",
    "                       param_grid=params_1,\n",
    "                       n_jobs = -1,\n",
    "                       scoring = 'roc_auc',\n",
    "                       verbose = 1)"
   ]
  },
  {
   "cell_type": "code",
   "execution_count": null,
   "metadata": {
    "colab": {
     "base_uri": "https://localhost:8080/"
    },
    "executionInfo": {
     "elapsed": 1507441,
     "status": "ok",
     "timestamp": 1645890938002,
     "user": {
      "displayName": "Rizwan Ahmad",
      "photoUrl": "https://lh3.googleusercontent.com/a-/AOh14GgtPJUYELe4Sy9438Rs3-SuiOjqkt-H9xUsvAdC=s64",
      "userId": "15556863955443815182"
     },
     "user_tz": -330
    },
    "id": "W0DGyvQ9yf5c",
    "outputId": "6a88f65a-8ad4-4035-d2bd-bff8297aa345"
   },
   "outputs": [],
   "source": [
    "grid_cv_boost.fit(x_train_sm,y_train_sm)\n",
    "print('Best score for GradientBoosting=',grid_cv_boost.best_score_)\n"
   ]
  },
  {
   "cell_type": "code",
   "execution_count": null,
   "metadata": {
    "colab": {
     "base_uri": "https://localhost:8080/"
    },
    "executionInfo": {
     "elapsed": 30,
     "status": "ok",
     "timestamp": 1645890938003,
     "user": {
      "displayName": "Rizwan Ahmad",
      "photoUrl": "https://lh3.googleusercontent.com/a-/AOh14GgtPJUYELe4Sy9438Rs3-SuiOjqkt-H9xUsvAdC=s64",
      "userId": "15556863955443815182"
     },
     "user_tz": -330
    },
    "id": "pw5PrlxatMzu",
    "outputId": "dde889cf-76b8-4e07-ba94-e240e4398566"
   },
   "outputs": [],
   "source": [
    "xgb_final=grid_cv_boost.best_estimator_\n",
    "xgb_final"
   ]
  },
  {
   "cell_type": "code",
   "execution_count": null,
   "metadata": {
    "colab": {
     "base_uri": "https://localhost:8080/"
    },
    "executionInfo": {
     "elapsed": 739,
     "status": "ok",
     "timestamp": 1645890938726,
     "user": {
      "displayName": "Rizwan Ahmad",
      "photoUrl": "https://lh3.googleusercontent.com/a-/AOh14GgtPJUYELe4Sy9438Rs3-SuiOjqkt-H9xUsvAdC=s64",
      "userId": "15556863955443815182"
     },
     "user_tz": -330
    },
    "id": "jGyjRSpxynGx",
    "outputId": "ca71abe5-af1a-4be3-867e-4c9390873d18"
   },
   "outputs": [],
   "source": [
    "y_pred_xgbgcv = xgb_final.predict(x_train_sm)\n",
    "peformance = model_metrics(y_train_sm,y_pred_xgbgcv,'GradientBoostClassifier with n = 600',peformance)"
   ]
  },
  {
   "cell_type": "code",
   "execution_count": null,
   "metadata": {
    "executionInfo": {
     "elapsed": 30,
     "status": "ok",
     "timestamp": 1645890938728,
     "user": {
      "displayName": "Rizwan Ahmad",
      "photoUrl": "https://lh3.googleusercontent.com/a-/AOh14GgtPJUYELe4Sy9438Rs3-SuiOjqkt-H9xUsvAdC=s64",
      "userId": "15556863955443815182"
     },
     "user_tz": -330
    },
    "id": "ulQQ8gqstk2r"
   },
   "outputs": [],
   "source": [
    "max_depth = [5,6,7,10]\n",
    "\n",
    "params_2 = {'max_depth':max_depth\n",
    "}\n",
    "grid_cv_boost2 = GridSearchCV(estimator=xgb_final,\n",
    "                       param_grid=params_2,\n",
    "                       n_jobs = -1,\n",
    "                       scoring = 'roc_auc',\n",
    "                       verbose = 1)"
   ]
  },
  {
   "cell_type": "code",
   "execution_count": null,
   "metadata": {
    "colab": {
     "base_uri": "https://localhost:8080/"
    },
    "executionInfo": {
     "elapsed": 5459760,
     "status": "ok",
     "timestamp": 1645896398460,
     "user": {
      "displayName": "Rizwan Ahmad",
      "photoUrl": "https://lh3.googleusercontent.com/a-/AOh14GgtPJUYELe4Sy9438Rs3-SuiOjqkt-H9xUsvAdC=s64",
      "userId": "15556863955443815182"
     },
     "user_tz": -330
    },
    "id": "8tp7Z6RJugEX",
    "outputId": "70d2be12-37e0-43b2-89a4-4795e0eca083"
   },
   "outputs": [],
   "source": [
    "grid_cv_boost2.fit(x_train_sm,y_train_sm)\n",
    "print('Best score for GradientBoosting=',grid_cv_boost2.best_score_)\n",
    "grid_cv_boost2.best_estimator_"
   ]
  },
  {
   "cell_type": "code",
   "execution_count": null,
   "metadata": {
    "colab": {
     "base_uri": "https://localhost:8080/"
    },
    "executionInfo": {
     "elapsed": 5482860,
     "status": "ok",
     "timestamp": 1645901881308,
     "user": {
      "displayName": "Rizwan Ahmad",
      "photoUrl": "https://lh3.googleusercontent.com/a-/AOh14GgtPJUYELe4Sy9438Rs3-SuiOjqkt-H9xUsvAdC=s64",
      "userId": "15556863955443815182"
     },
     "user_tz": -330
    },
    "id": "Iwj4taptv6A_",
    "outputId": "ae359786-8da3-4bcf-91f4-0caf1ba8a287"
   },
   "outputs": [],
   "source": [
    "min_samples_split = [10,20,30]\n",
    "params_2 = {'min_samples_split': min_samples_split\n",
    "}\n",
    "grid_cv_boost3 = GridSearchCV(estimator=grid_cv_boost2.best_estimator_,\n",
    "                       param_grid=params_2,\n",
    "                       n_jobs = -1,\n",
    "                       scoring = 'roc_auc',\n",
    "                       verbose = 1)\n",
    "\n",
    "grid_cv_boost3.fit(x_train_sm,y_train_sm)\n",
    "print('Best score for GradientBoosting=',grid_cv_boost3.best_score_)\n",
    "grid_cv_boost3.best_estimator_"
   ]
  },
  {
   "cell_type": "code",
   "execution_count": null,
   "metadata": {
    "colab": {
     "base_uri": "https://localhost:8080/"
    },
    "executionInfo": {
     "elapsed": 1721,
     "status": "ok",
     "timestamp": 1645901883024,
     "user": {
      "displayName": "Rizwan Ahmad",
      "photoUrl": "https://lh3.googleusercontent.com/a-/AOh14GgtPJUYELe4Sy9438Rs3-SuiOjqkt-H9xUsvAdC=s64",
      "userId": "15556863955443815182"
     },
     "user_tz": -330
    },
    "id": "roByjlpbDEoV",
    "outputId": "6a28923a-9b25-4c92-e1d5-e8c332180b07"
   },
   "outputs": [],
   "source": [
    "y_pred_xgbgcv2 = grid_cv_boost3.best_estimator_.predict(x_train_sm)\n",
    "peformance = model_metrics(y_train_sm,y_pred_xgbgcv2,'GradientBoostClassifier with param2',peformance)\n",
    "performance"
   ]
  },
  {
   "cell_type": "code",
   "execution_count": null,
   "metadata": {
    "colab": {
     "base_uri": "https://localhost:8080/",
     "height": 385
    },
    "executionInfo": {
     "elapsed": 15,
     "status": "ok",
     "timestamp": 1645901883030,
     "user": {
      "displayName": "Rizwan Ahmad",
      "photoUrl": "https://lh3.googleusercontent.com/a-/AOh14GgtPJUYELe4Sy9438Rs3-SuiOjqkt-H9xUsvAdC=s64",
      "userId": "15556863955443815182"
     },
     "user_tz": -330
    },
    "id": "l56d2KWtDmhp",
    "outputId": "f1b53678-b35d-4e50-c3a0-0d0aa29b43bc"
   },
   "outputs": [],
   "source": [
    "metrics_df = pd.DataFrame(performance)\n",
    "metrics_df"
   ]
  },
  {
   "cell_type": "code",
   "execution_count": null,
   "metadata": {
    "executionInfo": {
     "elapsed": 13,
     "status": "ok",
     "timestamp": 1645901883031,
     "user": {
      "displayName": "Rizwan Ahmad",
      "photoUrl": "https://lh3.googleusercontent.com/a-/AOh14GgtPJUYELe4Sy9438Rs3-SuiOjqkt-H9xUsvAdC=s64",
      "userId": "15556863955443815182"
     },
     "user_tz": -330
    },
    "id": "ngSVch-EDGQI"
   },
   "outputs": [],
   "source": [
    "rf_final = pickle.load(open(mydrive_path+'\\\\pickle_file\\\\RandomForest_classifier.pkl','rb'))"
   ]
  },
  {
   "cell_type": "code",
   "execution_count": null,
   "metadata": {
    "executionInfo": {
     "elapsed": 14,
     "status": "ok",
     "timestamp": 1645901883032,
     "user": {
      "displayName": "Rizwan Ahmad",
      "photoUrl": "https://lh3.googleusercontent.com/a-/AOh14GgtPJUYELe4Sy9438Rs3-SuiOjqkt-H9xUsvAdC=s64",
      "userId": "15556863955443815182"
     },
     "user_tz": -330
    },
    "id": "Ioo91PCcHTlA"
   },
   "outputs": [],
   "source": [
    "# After doing multiple tuning we get the below model and will be used in the sentiment based analysis\n",
    "final_model = GradientBoostingClassifier(max_depth=10, min_samples_split=20, n_estimators=600)"
   ]
  },
  {
   "cell_type": "code",
   "execution_count": null,
   "metadata": {
    "colab": {
     "base_uri": "https://localhost:8080/"
    },
    "executionInfo": {
     "elapsed": 889776,
     "status": "ok",
     "timestamp": 1645902772795,
     "user": {
      "displayName": "Rizwan Ahmad",
      "photoUrl": "https://lh3.googleusercontent.com/a-/AOh14GgtPJUYELe4Sy9438Rs3-SuiOjqkt-H9xUsvAdC=s64",
      "userId": "15556863955443815182"
     },
     "user_tz": -330
    },
    "id": "9RNQ7iHOD4Zg",
    "outputId": "09353764-0ed1-4aa5-c892-dbf21c720366"
   },
   "outputs": [],
   "source": [
    "final_model.fit(x_train_sm,y_train_sm)"
   ]
  },
  {
   "cell_type": "code",
   "execution_count": null,
   "metadata": {
    "executionInfo": {
     "elapsed": 13,
     "status": "ok",
     "timestamp": 1645902772795,
     "user": {
      "displayName": "Rizwan Ahmad",
      "photoUrl": "https://lh3.googleusercontent.com/a-/AOh14GgtPJUYELe4Sy9438Rs3-SuiOjqkt-H9xUsvAdC=s64",
      "userId": "15556863955443815182"
     },
     "user_tz": -330
    },
    "id": "ZHGkHFv0ESRD"
   },
   "outputs": [],
   "source": [
    "pickle.dump(final_model,open(mydrive_path+'\\\\pickle_file\\\\final_model.pkl','wb'))"
   ]
  },
  {
   "cell_type": "code",
   "execution_count": null,
   "metadata": {
    "colab": {
     "base_uri": "https://localhost:8080/",
     "height": 1000
    },
    "executionInfo": {
     "elapsed": 1090,
     "status": "ok",
     "timestamp": 1645902773873,
     "user": {
      "displayName": "Rizwan Ahmad",
      "photoUrl": "https://lh3.googleusercontent.com/a-/AOh14GgtPJUYELe4Sy9438Rs3-SuiOjqkt-H9xUsvAdC=s64",
      "userId": "15556863955443815182"
     },
     "user_tz": -330
    },
    "id": "Gnz9Rv-8G0Zm",
    "outputId": "b6a45a19-de08-470b-d29b-aec77c63587d"
   },
   "outputs": [],
   "source": [
    "#Evaluatopn between lr , rf and boost \n",
    "test_performance=[]\n",
    "test_word_vect = count_vect.transform(x_test)\n",
    "test_tfidf_vect = tfidf_transformer.transform(test_word_vect)\n",
    "\n",
    "y_test_pred_lr = lr.predict(test_tfidf_vect)\n",
    "test_peformance = model_metrics(y_test,y_test_pred_lr,'Logistic Regression',test_performance)\n",
    "\n",
    "y_test_pred_xgbc = xgb_classifier.predict(test_tfidf_vect)\n",
    "test_peformance = model_metrics(y_test,y_test_pred_xgbc,'XGBoost Classifier',test_performance)\n",
    "\n",
    "y_test_pred_rf = rf_final.predict(test_tfidf_vect)\n",
    "test_peformance = model_metrics(y_test,y_test_pred_rf,'Tuned RandomForestClassifier',test_performance)\n",
    "\n",
    "y_test_pred_xgb = final_model.predict(test_tfidf_vect)\n",
    "test_peformance = model_metrics(y_test,y_test_pred_xgb,'Tuned GradientBoostClassifier',test_performance)\n",
    "\n",
    "test_metrics_df = pd.DataFrame(test_performance)\n",
    "test_metrics_df"
   ]
  },
  {
   "cell_type": "markdown",
   "metadata": {
    "id": "WoqnEkQPI9i2"
   },
   "source": [
    "### Evaluation with test data after comparing \n",
    "- Considering roc_auc_score ,performance. \n",
    "- Logistic Regression is having more score and have good accuracy "
   ]
  },
  {
   "cell_type": "code",
   "execution_count": null,
   "metadata": {
    "executionInfo": {
     "elapsed": 10,
     "status": "ok",
     "timestamp": 1645902773876,
     "user": {
      "displayName": "Rizwan Ahmad",
      "photoUrl": "https://lh3.googleusercontent.com/a-/AOh14GgtPJUYELe4Sy9438Rs3-SuiOjqkt-H9xUsvAdC=s64",
      "userId": "15556863955443815182"
     },
     "user_tz": -330
    },
    "id": "QBDSTlWeI8v6"
   },
   "outputs": [],
   "source": [
    "pickle.dump(lr,open(mydrive_path+'\\\\pickle_file\\\\model.pkl','wb'))"
   ]
  },
  {
   "cell_type": "markdown",
   "metadata": {
    "id": "qis9UlIlFO_F"
   },
   "source": [
    "# 5. Recommedation system\n",
    "- User and User recommedation system \n",
    "- Item and Item recommedation system "
   ]
  },
  {
   "cell_type": "markdown",
   "metadata": {
    "id": "RYweVbz3zX-o"
   },
   "source": [
    "## User and User recommedation \n"
   ]
  },
  {
   "cell_type": "code",
   "execution_count": null,
   "metadata": {
    "colab": {
     "base_uri": "https://localhost:8080/",
     "height": 1000
    },
    "executionInfo": {
     "elapsed": 723,
     "status": "ok",
     "timestamp": 1645902774590,
     "user": {
      "displayName": "Rizwan Ahmad",
      "photoUrl": "https://lh3.googleusercontent.com/a-/AOh14GgtPJUYELe4Sy9438Rs3-SuiOjqkt-H9xUsvAdC=s64",
      "userId": "15556863955443815182"
     },
     "user_tz": -330
    },
    "id": "fLfQArPYzLLr",
    "outputId": "3966aa33-5287-4e93-abc4-392ec21a6a88"
   },
   "outputs": [],
   "source": [
    "df = pd.read_csv('sample30.csv')\n",
    "df.sample(5)"
   ]
  },
  {
   "cell_type": "code",
   "execution_count": null,
   "metadata": {
    "colab": {
     "base_uri": "https://localhost:8080/"
    },
    "executionInfo": {
     "elapsed": 26,
     "status": "ok",
     "timestamp": 1645902774592,
     "user": {
      "displayName": "Rizwan Ahmad",
      "photoUrl": "https://lh3.googleusercontent.com/a-/AOh14GgtPJUYELe4Sy9438Rs3-SuiOjqkt-H9xUsvAdC=s64",
      "userId": "15556863955443815182"
     },
     "user_tz": -330
    },
    "id": "FBixN57OzLLr",
    "outputId": "b0209ec6-ba54-4220-cc15-385272485a29"
   },
   "outputs": [],
   "source": [
    "len(df['name'].unique())"
   ]
  },
  {
   "cell_type": "code",
   "execution_count": null,
   "metadata": {
    "colab": {
     "base_uri": "https://localhost:8080/"
    },
    "executionInfo": {
     "elapsed": 22,
     "status": "ok",
     "timestamp": 1645902774594,
     "user": {
      "displayName": "Rizwan Ahmad",
      "photoUrl": "https://lh3.googleusercontent.com/a-/AOh14GgtPJUYELe4Sy9438Rs3-SuiOjqkt-H9xUsvAdC=s64",
      "userId": "15556863955443815182"
     },
     "user_tz": -330
    },
    "id": "z__3zlhDzLLr",
    "outputId": "749e7f42-55f3-4b8c-b426-3bf291c78513"
   },
   "outputs": [],
   "source": [
    "from sklearn.model_selection import train_test_split\n",
    "train,test = train_test_split(df,train_size=0.70,random_state=45)\n",
    "print('train shape = ',train.shape)\n",
    "print('test shape = ',test.shape)"
   ]
  },
  {
   "cell_type": "code",
   "execution_count": null,
   "metadata": {
    "colab": {
     "base_uri": "https://localhost:8080/",
     "height": 745
    },
    "executionInfo": {
     "elapsed": 667,
     "status": "ok",
     "timestamp": 1645902775242,
     "user": {
      "displayName": "Rizwan Ahmad",
      "photoUrl": "https://lh3.googleusercontent.com/a-/AOh14GgtPJUYELe4Sy9438Rs3-SuiOjqkt-H9xUsvAdC=s64",
      "userId": "15556863955443815182"
     },
     "user_tz": -330
    },
    "id": "RqaBNRgDzLLs",
    "outputId": "2f8a16b5-652f-4fe4-f144-9d99613bb29b"
   },
   "outputs": [],
   "source": [
    "#using train dataset and create correlation matrix \n",
    "train_pivot = pd.pivot_table(index='reviews_username',\n",
    "                            columns='name',\n",
    "                            values='reviews_rating',data=train).fillna(1)\n",
    "train_pivot"
   ]
  },
  {
   "cell_type": "code",
   "execution_count": null,
   "metadata": {
    "executionInfo": {
     "elapsed": 15,
     "status": "ok",
     "timestamp": 1645902775244,
     "user": {
      "displayName": "Rizwan Ahmad",
      "photoUrl": "https://lh3.googleusercontent.com/a-/AOh14GgtPJUYELe4Sy9438Rs3-SuiOjqkt-H9xUsvAdC=s64",
      "userId": "15556863955443815182"
     },
     "user_tz": -330
    },
    "id": "yY_ZssUEzLLs"
   },
   "outputs": [],
   "source": [
    "#Creating the train and test dataset for predicting and evaluating the correlation\n",
    "#fill 1 in place of Nan for prediction \n",
    "train_pivot1 = pd.pivot_table(index='reviews_username',\n",
    "                            columns='name',\n",
    "                            values='reviews_rating',data=train).fillna(1)"
   ]
  },
  {
   "cell_type": "code",
   "execution_count": null,
   "metadata": {
    "colab": {
     "base_uri": "https://localhost:8080/"
    },
    "executionInfo": {
     "elapsed": 17,
     "status": "ok",
     "timestamp": 1645902775246,
     "user": {
      "displayName": "Rizwan Ahmad",
      "photoUrl": "https://lh3.googleusercontent.com/a-/AOh14GgtPJUYELe4Sy9438Rs3-SuiOjqkt-H9xUsvAdC=s64",
      "userId": "15556863955443815182"
     },
     "user_tz": -330
    },
    "id": "JATJPNluzLLs",
    "outputId": "6938ad11-ef62-4030-e6e7-08cdabde2bbb"
   },
   "outputs": [],
   "source": [
    "train_pivot1.loc['piggyboy420']"
   ]
  },
  {
   "cell_type": "code",
   "execution_count": null,
   "metadata": {
    "executionInfo": {
     "elapsed": 14,
     "status": "ok",
     "timestamp": 1645902775250,
     "user": {
      "displayName": "Rizwan Ahmad",
      "photoUrl": "https://lh3.googleusercontent.com/a-/AOh14GgtPJUYELe4Sy9438Rs3-SuiOjqkt-H9xUsvAdC=s64",
      "userId": "15556863955443815182"
     },
     "user_tz": -330
    },
    "id": "CRGgL-MMzLLs"
   },
   "outputs": [],
   "source": [
    "# here we are going use the adjusted cosine similarity \n",
    "import numpy as np\n",
    "\n",
    "def cosine_similarity(df):\n",
    "    # using the adjusted cosine similarity \n",
    "    mean_df = np.nanmean(df,axis=1)\n",
    "    substracted_df = (df.T - mean_df).T # Normalized dataset\n",
    "    # using the pairwise_distance for cosine similarity \n",
    "    user_correlation = 1- pairwise_distances (substracted_df.fillna(0),metric='cosine')\n",
    "    user_correlation[np.isnan(user_correlation)] = 0\n",
    "    return user_correlation,substracted_df\n",
    "    "
   ]
  },
  {
   "cell_type": "code",
   "execution_count": null,
   "metadata": {
    "colab": {
     "base_uri": "https://localhost:8080/"
    },
    "executionInfo": {
     "elapsed": 5848,
     "status": "ok",
     "timestamp": 1645902781085,
     "user": {
      "displayName": "Rizwan Ahmad",
      "photoUrl": "https://lh3.googleusercontent.com/a-/AOh14GgtPJUYELe4Sy9438Rs3-SuiOjqkt-H9xUsvAdC=s64",
      "userId": "15556863955443815182"
     },
     "user_tz": -330
    },
    "id": "hohOihBLzLLs",
    "outputId": "42565462-b0bf-4907-eea4-3bba57750ebc"
   },
   "outputs": [],
   "source": [
    "user_corr_matrix,normalized_df = cosine_similarity(train_pivot1)\n",
    "user_corr_matrix"
   ]
  },
  {
   "cell_type": "code",
   "execution_count": null,
   "metadata": {
    "colab": {
     "base_uri": "https://localhost:8080/"
    },
    "executionInfo": {
     "elapsed": 28,
     "status": "ok",
     "timestamp": 1645902781086,
     "user": {
      "displayName": "Rizwan Ahmad",
      "photoUrl": "https://lh3.googleusercontent.com/a-/AOh14GgtPJUYELe4Sy9438Rs3-SuiOjqkt-H9xUsvAdC=s64",
      "userId": "15556863955443815182"
     },
     "user_tz": -330
    },
    "id": "FIv0ASr7zLLs",
    "outputId": "a1145a4f-c390-475d-ebad-29eb3fa453dc"
   },
   "outputs": [],
   "source": [
    "user_corr_matrix.shape"
   ]
  },
  {
   "cell_type": "code",
   "execution_count": null,
   "metadata": {
    "colab": {
     "base_uri": "https://localhost:8080/"
    },
    "executionInfo": {
     "elapsed": 1485,
     "status": "ok",
     "timestamp": 1645902782552,
     "user": {
      "displayName": "Rizwan Ahmad",
      "photoUrl": "https://lh3.googleusercontent.com/a-/AOh14GgtPJUYELe4Sy9438Rs3-SuiOjqkt-H9xUsvAdC=s64",
      "userId": "15556863955443815182"
     },
     "user_tz": -330
    },
    "id": "eL5_ky7kzLLt",
    "outputId": "d3627a0c-9caf-4b93-c172-0c9478ffbdf0"
   },
   "outputs": [],
   "source": [
    "user_corr_matrix[user_corr_matrix < 0] = 0\n",
    "user_corr_matrix.shape"
   ]
  },
  {
   "cell_type": "code",
   "execution_count": null,
   "metadata": {
    "colab": {
     "base_uri": "https://localhost:8080/",
     "height": 544
    },
    "executionInfo": {
     "elapsed": 14,
     "status": "ok",
     "timestamp": 1645902782554,
     "user": {
      "displayName": "Rizwan Ahmad",
      "photoUrl": "https://lh3.googleusercontent.com/a-/AOh14GgtPJUYELe4Sy9438Rs3-SuiOjqkt-H9xUsvAdC=s64",
      "userId": "15556863955443815182"
     },
     "user_tz": -330
    },
    "id": "FXRWk8QpzLLt",
    "outputId": "1d6e2628-0ded-4180-cf94-a5232b2b393d"
   },
   "outputs": [],
   "source": [
    "df[df['reviews_username'] == 'zzz1127']"
   ]
  },
  {
   "cell_type": "code",
   "execution_count": null,
   "metadata": {
    "colab": {
     "base_uri": "https://localhost:8080/"
    },
    "executionInfo": {
     "elapsed": 3496,
     "status": "ok",
     "timestamp": 1645902786038,
     "user": {
      "displayName": "Rizwan Ahmad",
      "photoUrl": "https://lh3.googleusercontent.com/a-/AOh14GgtPJUYELe4Sy9438Rs3-SuiOjqkt-H9xUsvAdC=s64",
      "userId": "15556863955443815182"
     },
     "user_tz": -330
    },
    "id": "OFO775uXzLLt",
    "outputId": "3f1f1fcf-e4a9-4599-b057-25a1dc5914b0"
   },
   "outputs": [],
   "source": [
    "user_pred_ratings = np.dot(user_corr_matrix,train_pivot1.fillna(0))\n",
    "user_pred_ratings"
   ]
  },
  {
   "cell_type": "code",
   "execution_count": null,
   "metadata": {
    "colab": {
     "base_uri": "https://localhost:8080/"
    },
    "executionInfo": {
     "elapsed": 49,
     "status": "ok",
     "timestamp": 1645902786040,
     "user": {
      "displayName": "Rizwan Ahmad",
      "photoUrl": "https://lh3.googleusercontent.com/a-/AOh14GgtPJUYELe4Sy9438Rs3-SuiOjqkt-H9xUsvAdC=s64",
      "userId": "15556863955443815182"
     },
     "user_tz": -330
    },
    "id": "tSNWLbbgzLLt",
    "outputId": "d346fb0c-35f9-4d2a-e588-0229bb32ef0e"
   },
   "outputs": [],
   "source": [
    "user_pred_ratings.shape"
   ]
  },
  {
   "cell_type": "code",
   "execution_count": null,
   "metadata": {
    "colab": {
     "base_uri": "https://localhost:8080/",
     "height": 710
    },
    "executionInfo": {
     "elapsed": 38,
     "status": "ok",
     "timestamp": 1645902786041,
     "user": {
      "displayName": "Rizwan Ahmad",
      "photoUrl": "https://lh3.googleusercontent.com/a-/AOh14GgtPJUYELe4Sy9438Rs3-SuiOjqkt-H9xUsvAdC=s64",
      "userId": "15556863955443815182"
     },
     "user_tz": -330
    },
    "id": "vbsDqYE4zLLt",
    "outputId": "c18da497-0540-4ad6-b440-a346f66f1494"
   },
   "outputs": [],
   "source": [
    "user_final_rating = np.multiply(user_pred_ratings,train_pivot)\n",
    "user_final_rating"
   ]
  },
  {
   "cell_type": "code",
   "execution_count": null,
   "metadata": {
    "executionInfo": {
     "elapsed": 37,
     "status": "ok",
     "timestamp": 1645902786042,
     "user": {
      "displayName": "Rizwan Ahmad",
      "photoUrl": "https://lh3.googleusercontent.com/a-/AOh14GgtPJUYELe4Sy9438Rs3-SuiOjqkt-H9xUsvAdC=s64",
      "userId": "15556863955443815182"
     },
     "user_tz": -330
    },
    "id": "ow-QxzO3zLLt"
   },
   "outputs": [],
   "source": [
    "# Creating a pickle file for user-user recommendation system\n",
    "import pickle \n",
    "pickle.dump(user_final_rating,open(mydrive_path+'\\\\pickle_file\\\\user_final_rating.pkl','wb'))"
   ]
  },
  {
   "cell_type": "code",
   "execution_count": null,
   "metadata": {
    "colab": {
     "base_uri": "https://localhost:8080/"
    },
    "executionInfo": {
     "elapsed": 37,
     "status": "ok",
     "timestamp": 1645902786043,
     "user": {
      "displayName": "Rizwan Ahmad",
      "photoUrl": "https://lh3.googleusercontent.com/a-/AOh14GgtPJUYELe4Sy9438Rs3-SuiOjqkt-H9xUsvAdC=s64",
      "userId": "15556863955443815182"
     },
     "user_tz": -330
    },
    "id": "ze2TMsAbzLLu",
    "outputId": "455ea51e-efb7-4270-c4ab-c2d5a999321c"
   },
   "outputs": [],
   "source": [
    "d = user_final_rating\n",
    "d.loc['piggyboy420'].sort_values(ascending=False)[:20]"
   ]
  },
  {
   "cell_type": "markdown",
   "metadata": {
    "id": "LxBEFB9ozLLu"
   },
   "source": [
    "### Evaluation for user-user recommendation system"
   ]
  },
  {
   "cell_type": "code",
   "execution_count": null,
   "metadata": {
    "colab": {
     "base_uri": "https://localhost:8080/"
    },
    "executionInfo": {
     "elapsed": 33,
     "status": "ok",
     "timestamp": 1645902786044,
     "user": {
      "displayName": "Rizwan Ahmad",
      "photoUrl": "https://lh3.googleusercontent.com/a-/AOh14GgtPJUYELe4Sy9438Rs3-SuiOjqkt-H9xUsvAdC=s64",
      "userId": "15556863955443815182"
     },
     "user_tz": -330
    },
    "id": "6Ep5nRlEzLLu",
    "outputId": "47196074-65de-422a-8000-f83a33891503"
   },
   "outputs": [],
   "source": [
    "## Evaluation\n",
    "common = test[test.reviews_username.isin(train.reviews_username)]\n",
    "common.shape"
   ]
  },
  {
   "cell_type": "code",
   "execution_count": null,
   "metadata": {
    "executionInfo": {
     "elapsed": 940,
     "status": "ok",
     "timestamp": 1645902786960,
     "user": {
      "displayName": "Rizwan Ahmad",
      "photoUrl": "https://lh3.googleusercontent.com/a-/AOh14GgtPJUYELe4Sy9438Rs3-SuiOjqkt-H9xUsvAdC=s64",
      "userId": "15556863955443815182"
     },
     "user_tz": -330
    },
    "id": "0SdaUBYnzLLu"
   },
   "outputs": [],
   "source": [
    "corr_df = pd.DataFrame(user_corr_matrix)"
   ]
  },
  {
   "cell_type": "code",
   "execution_count": null,
   "metadata": {
    "colab": {
     "base_uri": "https://localhost:8080/",
     "height": 0
    },
    "executionInfo": {
     "elapsed": 44,
     "status": "ok",
     "timestamp": 1645902786961,
     "user": {
      "displayName": "Rizwan Ahmad",
      "photoUrl": "https://lh3.googleusercontent.com/a-/AOh14GgtPJUYELe4Sy9438Rs3-SuiOjqkt-H9xUsvAdC=s64",
      "userId": "15556863955443815182"
     },
     "user_tz": -330
    },
    "id": "2h8-6TAwzLLu",
    "outputId": "9dee561a-95af-4f71-c58c-89177a088c12"
   },
   "outputs": [],
   "source": [
    "corr_df"
   ]
  },
  {
   "cell_type": "code",
   "execution_count": null,
   "metadata": {
    "colab": {
     "base_uri": "https://localhost:8080/",
     "height": 0
    },
    "executionInfo": {
     "elapsed": 46,
     "status": "ok",
     "timestamp": 1645902786965,
     "user": {
      "displayName": "Rizwan Ahmad",
      "photoUrl": "https://lh3.googleusercontent.com/a-/AOh14GgtPJUYELe4Sy9438Rs3-SuiOjqkt-H9xUsvAdC=s64",
      "userId": "15556863955443815182"
     },
     "user_tz": -330
    },
    "id": "Oy15_a6MzLLu",
    "outputId": "1d9c36a7-eef9-4eba-d37b-dc46358a2002"
   },
   "outputs": [],
   "source": [
    "corr_df['user_name'] = normalized_df.index\n",
    "corr_df.set_index('user_name',inplace=True)\n",
    "corr_df"
   ]
  },
  {
   "cell_type": "code",
   "execution_count": null,
   "metadata": {
    "executionInfo": {
     "elapsed": 46,
     "status": "ok",
     "timestamp": 1645902786966,
     "user": {
      "displayName": "Rizwan Ahmad",
      "photoUrl": "https://lh3.googleusercontent.com/a-/AOh14GgtPJUYELe4Sy9438Rs3-SuiOjqkt-H9xUsvAdC=s64",
      "userId": "15556863955443815182"
     },
     "user_tz": -330
    },
    "id": "5JxX1jSHzLLu"
   },
   "outputs": [],
   "source": [
    "list_name = common.reviews_username.tolist()"
   ]
  },
  {
   "cell_type": "code",
   "execution_count": null,
   "metadata": {
    "colab": {
     "base_uri": "https://localhost:8080/"
    },
    "executionInfo": {
     "elapsed": 46,
     "status": "ok",
     "timestamp": 1645902786967,
     "user": {
      "displayName": "Rizwan Ahmad",
      "photoUrl": "https://lh3.googleusercontent.com/a-/AOh14GgtPJUYELe4Sy9438Rs3-SuiOjqkt-H9xUsvAdC=s64",
      "userId": "15556863955443815182"
     },
     "user_tz": -330
    },
    "id": "wYpYA33CzLLv",
    "outputId": "2ecfdbee-abb7-47ff-986d-4e08b28b0969"
   },
   "outputs": [],
   "source": [
    "corr_df.columns = normalized_df.index.tolist()\n",
    "corr_df.columns"
   ]
  },
  {
   "cell_type": "code",
   "execution_count": null,
   "metadata": {
    "colab": {
     "base_uri": "https://localhost:8080/"
    },
    "executionInfo": {
     "elapsed": 37,
     "status": "ok",
     "timestamp": 1645902786969,
     "user": {
      "displayName": "Rizwan Ahmad",
      "photoUrl": "https://lh3.googleusercontent.com/a-/AOh14GgtPJUYELe4Sy9438Rs3-SuiOjqkt-H9xUsvAdC=s64",
      "userId": "15556863955443815182"
     },
     "user_tz": -330
    },
    "id": "mKvSaYGAzLLv",
    "outputId": "fd4199c7-5da9-449b-c596-cdb32257d732"
   },
   "outputs": [],
   "source": [
    "corr_df1 = corr_df[corr_df.index.isin(list_name)]\n",
    "corr_df1.shape"
   ]
  },
  {
   "cell_type": "code",
   "execution_count": null,
   "metadata": {
    "colab": {
     "base_uri": "https://localhost:8080/",
     "height": 0
    },
    "executionInfo": {
     "elapsed": 30,
     "status": "ok",
     "timestamp": 1645902786970,
     "user": {
      "displayName": "Rizwan Ahmad",
      "photoUrl": "https://lh3.googleusercontent.com/a-/AOh14GgtPJUYELe4Sy9438Rs3-SuiOjqkt-H9xUsvAdC=s64",
      "userId": "15556863955443815182"
     },
     "user_tz": -330
    },
    "id": "qg6pV63SzLLv",
    "outputId": "62bc42aa-3bee-4257-977e-10cb3995f28f"
   },
   "outputs": [],
   "source": [
    "corr_df2 = corr_df1.T[corr_df1.T.index.isin(list_name)]\n",
    "corr_df3 = corr_df2.T\n",
    "corr_df3.head()"
   ]
  },
  {
   "cell_type": "code",
   "execution_count": null,
   "metadata": {
    "executionInfo": {
     "elapsed": 29,
     "status": "ok",
     "timestamp": 1645902786970,
     "user": {
      "displayName": "Rizwan Ahmad",
      "photoUrl": "https://lh3.googleusercontent.com/a-/AOh14GgtPJUYELe4Sy9438Rs3-SuiOjqkt-H9xUsvAdC=s64",
      "userId": "15556863955443815182"
     },
     "user_tz": -330
    },
    "id": "WN1NLC9IzLLv"
   },
   "outputs": [],
   "source": [
    "common_user_tb = pd.pivot_table(index='reviews_username',\n",
    "                            columns='name',\n",
    "                            values='reviews_rating',data=common)"
   ]
  },
  {
   "cell_type": "code",
   "execution_count": null,
   "metadata": {
    "colab": {
     "base_uri": "https://localhost:8080/",
     "height": 693
    },
    "executionInfo": {
     "elapsed": 1340,
     "status": "ok",
     "timestamp": 1645902788282,
     "user": {
      "displayName": "Rizwan Ahmad",
      "photoUrl": "https://lh3.googleusercontent.com/a-/AOh14GgtPJUYELe4Sy9438Rs3-SuiOjqkt-H9xUsvAdC=s64",
      "userId": "15556863955443815182"
     },
     "user_tz": -330
    },
    "id": "_jomjBh2zLLv",
    "outputId": "c6b301e9-e2e1-4f4c-8a10-50315a6f4065"
   },
   "outputs": [],
   "source": [
    "common_user_tb"
   ]
  },
  {
   "cell_type": "code",
   "execution_count": null,
   "metadata": {
    "colab": {
     "base_uri": "https://localhost:8080/"
    },
    "executionInfo": {
     "elapsed": 143,
     "status": "ok",
     "timestamp": 1645902788283,
     "user": {
      "displayName": "Rizwan Ahmad",
      "photoUrl": "https://lh3.googleusercontent.com/a-/AOh14GgtPJUYELe4Sy9438Rs3-SuiOjqkt-H9xUsvAdC=s64",
      "userId": "15556863955443815182"
     },
     "user_tz": -330
    },
    "id": "uX50pmXmzLLv",
    "outputId": "678084c6-0011-4773-e430-9f477c351062"
   },
   "outputs": [],
   "source": [
    "corr_df3[corr_df3<0] = 0\n",
    "common_user_rating =  np.dot(corr_df3,common_user_tb.fillna(0))\n",
    "common_user_rating"
   ]
  },
  {
   "cell_type": "code",
   "execution_count": null,
   "metadata": {
    "colab": {
     "base_uri": "https://localhost:8080/",
     "height": 693
    },
    "executionInfo": {
     "elapsed": 73,
     "status": "ok",
     "timestamp": 1645902788285,
     "user": {
      "displayName": "Rizwan Ahmad",
      "photoUrl": "https://lh3.googleusercontent.com/a-/AOh14GgtPJUYELe4Sy9438Rs3-SuiOjqkt-H9xUsvAdC=s64",
      "userId": "15556863955443815182"
     },
     "user_tz": -330
    },
    "id": "DFe7Svl1zLLw",
    "outputId": "f5ed7b32-6fdf-4c03-ffbf-abaca97af5bc"
   },
   "outputs": [],
   "source": [
    "dummy_test = common.copy()\n",
    "dummy_test['reviews_rating'] =dummy_test['reviews_rating'].apply(lambda x: 1 if x>=1 else 0)\n",
    "dummy_test = pd.pivot_table(index='reviews_username',\n",
    "                            columns='name',\n",
    "                            values='reviews_rating',data=dummy_test).fillna(0)\n",
    "dummy_test"
   ]
  },
  {
   "cell_type": "code",
   "execution_count": null,
   "metadata": {
    "colab": {
     "base_uri": "https://localhost:8080/",
     "height": 693
    },
    "executionInfo": {
     "elapsed": 72,
     "status": "ok",
     "timestamp": 1645902788286,
     "user": {
      "displayName": "Rizwan Ahmad",
      "photoUrl": "https://lh3.googleusercontent.com/a-/AOh14GgtPJUYELe4Sy9438Rs3-SuiOjqkt-H9xUsvAdC=s64",
      "userId": "15556863955443815182"
     },
     "user_tz": -330
    },
    "id": "N5UMLuZmzLLw",
    "outputId": "49772e28-9ab8-489d-c158-a3cb4b8c90b6"
   },
   "outputs": [],
   "source": [
    "common_user_pred_ratings =  np.multiply(common_user_rating,dummy_test)\n",
    "common_user_pred_ratings"
   ]
  },
  {
   "cell_type": "code",
   "execution_count": null,
   "metadata": {
    "colab": {
     "base_uri": "https://localhost:8080/"
    },
    "executionInfo": {
     "elapsed": 73,
     "status": "ok",
     "timestamp": 1645902788289,
     "user": {
      "displayName": "Rizwan Ahmad",
      "photoUrl": "https://lh3.googleusercontent.com/a-/AOh14GgtPJUYELe4Sy9438Rs3-SuiOjqkt-H9xUsvAdC=s64",
      "userId": "15556863955443815182"
     },
     "user_tz": -330
    },
    "id": "04JlaaowzLLw",
    "outputId": "891f54dc-f43e-45a2-9f71-c8396bbf2ebd"
   },
   "outputs": [],
   "source": [
    "from sklearn.preprocessing import MinMaxScaler\n",
    "from numpy import *\n",
    "\n",
    "X  = common_user_pred_ratings.copy() \n",
    "X = X[X>0]\n",
    "\n",
    "scaler = MinMaxScaler(feature_range=(1, 5))\n",
    "print(scaler.fit(X))\n",
    "y = (scaler.transform(X))\n",
    "\n",
    "print(y)\n",
    "y.shape"
   ]
  },
  {
   "cell_type": "code",
   "execution_count": null,
   "metadata": {
    "executionInfo": {
     "elapsed": 117,
     "status": "ok",
     "timestamp": 1645902788341,
     "user": {
      "displayName": "Rizwan Ahmad",
      "photoUrl": "https://lh3.googleusercontent.com/a-/AOh14GgtPJUYELe4Sy9438Rs3-SuiOjqkt-H9xUsvAdC=s64",
      "userId": "15556863955443815182"
     },
     "user_tz": -330
    },
    "id": "WZlAO7jHzLLw"
   },
   "outputs": [],
   "source": [
    "# Finding total non-NaN value\n",
    "total_non_nan = np.count_nonzero(~np.isnan(y))"
   ]
  },
  {
   "cell_type": "code",
   "execution_count": null,
   "metadata": {
    "colab": {
     "base_uri": "https://localhost:8080/"
    },
    "executionInfo": {
     "elapsed": 119,
     "status": "ok",
     "timestamp": 1645902788343,
     "user": {
      "displayName": "Rizwan Ahmad",
      "photoUrl": "https://lh3.googleusercontent.com/a-/AOh14GgtPJUYELe4Sy9438Rs3-SuiOjqkt-H9xUsvAdC=s64",
      "userId": "15556863955443815182"
     },
     "user_tz": -330
    },
    "id": "rYja90pRzLLw",
    "outputId": "6b501241-3c08-4b1e-8cc2-2f5c3315dd77"
   },
   "outputs": [],
   "source": [
    "total_non_nan"
   ]
  },
  {
   "cell_type": "code",
   "execution_count": null,
   "metadata": {
    "colab": {
     "base_uri": "https://localhost:8080/",
     "height": 693
    },
    "executionInfo": {
     "elapsed": 115,
     "status": "ok",
     "timestamp": 1645902788344,
     "user": {
      "displayName": "Rizwan Ahmad",
      "photoUrl": "https://lh3.googleusercontent.com/a-/AOh14GgtPJUYELe4Sy9438Rs3-SuiOjqkt-H9xUsvAdC=s64",
      "userId": "15556863955443815182"
     },
     "user_tz": -330
    },
    "id": "JcCX66UwzLLw",
    "outputId": "f495cae0-b3ce-4125-f2ac-b69e34799d4d"
   },
   "outputs": [],
   "source": [
    "common_pivot = pd.pivot_table(index='reviews_username',\n",
    "                            columns='name',\n",
    "                            values='reviews_rating',data=common)\n",
    "common_pivot"
   ]
  },
  {
   "cell_type": "code",
   "execution_count": null,
   "metadata": {
    "colab": {
     "base_uri": "https://localhost:8080/"
    },
    "executionInfo": {
     "elapsed": 106,
     "status": "ok",
     "timestamp": 1645902788344,
     "user": {
      "displayName": "Rizwan Ahmad",
      "photoUrl": "https://lh3.googleusercontent.com/a-/AOh14GgtPJUYELe4Sy9438Rs3-SuiOjqkt-H9xUsvAdC=s64",
      "userId": "15556863955443815182"
     },
     "user_tz": -330
    },
    "id": "yBRKSyRizLLx",
    "outputId": "47e52670-d361-4b5b-a7df-74836c747778"
   },
   "outputs": [],
   "source": [
    "rmse = (sum(sum((common_pivot -  y )**2))/total_non_nan)**0.5\n",
    "print(rmse)"
   ]
  },
  {
   "cell_type": "markdown",
   "metadata": {
    "id": "ym4IEkm1zLLx"
   },
   "source": [
    "## Item and Item recommendation system"
   ]
  },
  {
   "cell_type": "code",
   "execution_count": null,
   "metadata": {
    "colab": {
     "base_uri": "https://localhost:8080/",
     "height": 970
    },
    "executionInfo": {
     "elapsed": 970,
     "status": "ok",
     "timestamp": 1645902789216,
     "user": {
      "displayName": "Rizwan Ahmad",
      "photoUrl": "https://lh3.googleusercontent.com/a-/AOh14GgtPJUYELe4Sy9438Rs3-SuiOjqkt-H9xUsvAdC=s64",
      "userId": "15556863955443815182"
     },
     "user_tz": -330
    },
    "id": "IoDSJsWozLLx",
    "outputId": "d07fc3cb-b9a7-4fd4-a2b0-109f191391a1"
   },
   "outputs": [],
   "source": [
    "train_pivot_ii = train_pivot1.T\n",
    "train_pivot_ii"
   ]
  },
  {
   "cell_type": "code",
   "execution_count": null,
   "metadata": {
    "colab": {
     "base_uri": "https://localhost:8080/"
    },
    "executionInfo": {
     "elapsed": 179,
     "status": "ok",
     "timestamp": 1645902789217,
     "user": {
      "displayName": "Rizwan Ahmad",
      "photoUrl": "https://lh3.googleusercontent.com/a-/AOh14GgtPJUYELe4Sy9438Rs3-SuiOjqkt-H9xUsvAdC=s64",
      "userId": "15556863955443815182"
     },
     "user_tz": -330
    },
    "id": "1OQFyA9XzLLx",
    "outputId": "ddcff859-e411-4227-c689-f822dfc02377"
   },
   "outputs": [],
   "source": [
    "item_corr_matrix, normalized_item_df = cosine_similarity(train_pivot_ii)\n",
    "item_corr_matrix.shape"
   ]
  },
  {
   "cell_type": "code",
   "execution_count": null,
   "metadata": {
    "colab": {
     "base_uri": "https://localhost:8080/"
    },
    "executionInfo": {
     "elapsed": 176,
     "status": "ok",
     "timestamp": 1645902789222,
     "user": {
      "displayName": "Rizwan Ahmad",
      "photoUrl": "https://lh3.googleusercontent.com/a-/AOh14GgtPJUYELe4Sy9438Rs3-SuiOjqkt-H9xUsvAdC=s64",
      "userId": "15556863955443815182"
     },
     "user_tz": -330
    },
    "id": "gdgSp0jXzLLx",
    "outputId": "0c48a981-0327-404d-ebd0-d9beb3a7a995"
   },
   "outputs": [],
   "source": [
    "item_pred_rating = np.dot((train_pivot_ii.fillna(0)).T,item_corr_matrix)\n",
    "item_pred_rating[item_pred_rating<0] = 0\n",
    "item_pred_rating"
   ]
  },
  {
   "cell_type": "code",
   "execution_count": null,
   "metadata": {
    "colab": {
     "base_uri": "https://localhost:8080/",
     "height": 745
    },
    "executionInfo": {
     "elapsed": 172,
     "status": "ok",
     "timestamp": 1645902789223,
     "user": {
      "displayName": "Rizwan Ahmad",
      "photoUrl": "https://lh3.googleusercontent.com/a-/AOh14GgtPJUYELe4Sy9438Rs3-SuiOjqkt-H9xUsvAdC=s64",
      "userId": "15556863955443815182"
     },
     "user_tz": -330
    },
    "id": "A0li15FKzLLx",
    "outputId": "da883adc-7ebc-4379-c25c-06683f582291"
   },
   "outputs": [],
   "source": [
    "#final rating for items\n",
    "item_final_rating = np.multiply(item_pred_rating,train_pivot)\n",
    "item_final_rating"
   ]
  },
  {
   "cell_type": "code",
   "execution_count": null,
   "metadata": {
    "colab": {
     "base_uri": "https://localhost:8080/"
    },
    "executionInfo": {
     "elapsed": 172,
     "status": "ok",
     "timestamp": 1645902789224,
     "user": {
      "displayName": "Rizwan Ahmad",
      "photoUrl": "https://lh3.googleusercontent.com/a-/AOh14GgtPJUYELe4Sy9438Rs3-SuiOjqkt-H9xUsvAdC=s64",
      "userId": "15556863955443815182"
     },
     "user_tz": -330
    },
    "id": "Kl1k68xBzLLy",
    "outputId": "80cfb30f-9a1a-4078-e116-e2913e12e0c6"
   },
   "outputs": [],
   "source": [
    "d_item = item_final_rating\n",
    "d_item.loc['piggyboy420'].sort_values(ascending=False)[:20]"
   ]
  },
  {
   "cell_type": "markdown",
   "metadata": {
    "id": "q2x5g_gCzLLy"
   },
   "source": [
    "### Evaluation for item and item"
   ]
  },
  {
   "cell_type": "code",
   "execution_count": null,
   "metadata": {
    "colab": {
     "base_uri": "https://localhost:8080/",
     "height": 1000
    },
    "executionInfo": {
     "elapsed": 169,
     "status": "ok",
     "timestamp": 1645902789225,
     "user": {
      "displayName": "Rizwan Ahmad",
      "photoUrl": "https://lh3.googleusercontent.com/a-/AOh14GgtPJUYELe4Sy9438Rs3-SuiOjqkt-H9xUsvAdC=s64",
      "userId": "15556863955443815182"
     },
     "user_tz": -330
    },
    "id": "ew17D0NwzLLy",
    "outputId": "5fafdca2-74a2-449d-e4bc-d94680a8a3ac"
   },
   "outputs": [],
   "source": [
    "common_item = test[test.name.isin(train.name)]\n",
    "common_item"
   ]
  },
  {
   "cell_type": "code",
   "execution_count": null,
   "metadata": {
    "colab": {
     "base_uri": "https://localhost:8080/"
    },
    "executionInfo": {
     "elapsed": 167,
     "status": "ok",
     "timestamp": 1645902789225,
     "user": {
      "displayName": "Rizwan Ahmad",
      "photoUrl": "https://lh3.googleusercontent.com/a-/AOh14GgtPJUYELe4Sy9438Rs3-SuiOjqkt-H9xUsvAdC=s64",
      "userId": "15556863955443815182"
     },
     "user_tz": -330
    },
    "id": "_H4a-omAzLLy",
    "outputId": "e74ff918-d940-4a50-f7ec-3c1152092c7d"
   },
   "outputs": [],
   "source": [
    "common_item_pivot = common_item.pivot_table(index='reviews_username',\n",
    "                            columns='name',\n",
    "                            values='reviews_rating').T\n",
    "\n",
    "common_item_pivot.shape"
   ]
  },
  {
   "cell_type": "code",
   "execution_count": null,
   "metadata": {
    "colab": {
     "base_uri": "https://localhost:8080/",
     "height": 488
    },
    "executionInfo": {
     "elapsed": 161,
     "status": "ok",
     "timestamp": 1645902789225,
     "user": {
      "displayName": "Rizwan Ahmad",
      "photoUrl": "https://lh3.googleusercontent.com/a-/AOh14GgtPJUYELe4Sy9438Rs3-SuiOjqkt-H9xUsvAdC=s64",
      "userId": "15556863955443815182"
     },
     "user_tz": -330
    },
    "id": "qQV5eh4-zLLy",
    "outputId": "e9715624-7ed6-4ceb-a0bb-36b3ce2a9680"
   },
   "outputs": [],
   "source": [
    "item_corr_df = pd.DataFrame(item_corr_matrix)\n",
    "item_corr_df"
   ]
  },
  {
   "cell_type": "code",
   "execution_count": null,
   "metadata": {
    "colab": {
     "base_uri": "https://localhost:8080/",
     "height": 1000
    },
    "executionInfo": {
     "elapsed": 159,
     "status": "ok",
     "timestamp": 1645902789226,
     "user": {
      "displayName": "Rizwan Ahmad",
      "photoUrl": "https://lh3.googleusercontent.com/a-/AOh14GgtPJUYELe4Sy9438Rs3-SuiOjqkt-H9xUsvAdC=s64",
      "userId": "15556863955443815182"
     },
     "user_tz": -330
    },
    "id": "-f0WJAcUzLLy",
    "outputId": "46e82fe9-df38-445a-81e1-c52c65a37dac"
   },
   "outputs": [],
   "source": [
    "item_corr_df['name'] = normalized_item_df.index\n",
    "item_corr_df.set_index('name',inplace=True)\n",
    "item_corr_df"
   ]
  },
  {
   "cell_type": "code",
   "execution_count": null,
   "metadata": {
    "colab": {
     "base_uri": "https://localhost:8080/",
     "height": 1000
    },
    "executionInfo": {
     "elapsed": 921,
     "status": "ok",
     "timestamp": 1645902789992,
     "user": {
      "displayName": "Rizwan Ahmad",
      "photoUrl": "https://lh3.googleusercontent.com/a-/AOh14GgtPJUYELe4Sy9438Rs3-SuiOjqkt-H9xUsvAdC=s64",
      "userId": "15556863955443815182"
     },
     "user_tz": -330
    },
    "id": "yKeeyy0RzLLz",
    "outputId": "10278fda-2007-437e-a20f-fd9f81a7bb66"
   },
   "outputs": [],
   "source": [
    "list_items = common_item.name.tolist()\n",
    "item_corr_df.columns = normalized_item_df.index.tolist()\n",
    "item_corr_df"
   ]
  },
  {
   "cell_type": "code",
   "execution_count": null,
   "metadata": {
    "colab": {
     "base_uri": "https://localhost:8080/"
    },
    "executionInfo": {
     "elapsed": 236,
     "status": "ok",
     "timestamp": 1645902789993,
     "user": {
      "displayName": "Rizwan Ahmad",
      "photoUrl": "https://lh3.googleusercontent.com/a-/AOh14GgtPJUYELe4Sy9438Rs3-SuiOjqkt-H9xUsvAdC=s64",
      "userId": "15556863955443815182"
     },
     "user_tz": -330
    },
    "id": "VHtl8MqZzLLz",
    "outputId": "73269849-89eb-43de-afb9-42e9c2f3f585"
   },
   "outputs": [],
   "source": [
    "list_items"
   ]
  },
  {
   "cell_type": "code",
   "execution_count": null,
   "metadata": {
    "colab": {
     "base_uri": "https://localhost:8080/",
     "height": 1000
    },
    "executionInfo": {
     "elapsed": 87,
     "status": "ok",
     "timestamp": 1645902789993,
     "user": {
      "displayName": "Rizwan Ahmad",
      "photoUrl": "https://lh3.googleusercontent.com/a-/AOh14GgtPJUYELe4Sy9438Rs3-SuiOjqkt-H9xUsvAdC=s64",
      "userId": "15556863955443815182"
     },
     "user_tz": -330
    },
    "id": "YGmBlYpEzLLz",
    "outputId": "763c5b55-1d79-4f2f-e933-0940c1082cc0"
   },
   "outputs": [],
   "source": [
    "item_corr_df1 = item_corr_df[item_corr_df.index.isin(list_items)]\n",
    "item_corr_df1"
   ]
  },
  {
   "cell_type": "code",
   "execution_count": null,
   "metadata": {
    "colab": {
     "base_uri": "https://localhost:8080/",
     "height": 1000
    },
    "executionInfo": {
     "elapsed": 88,
     "status": "ok",
     "timestamp": 1645902789996,
     "user": {
      "displayName": "Rizwan Ahmad",
      "photoUrl": "https://lh3.googleusercontent.com/a-/AOh14GgtPJUYELe4Sy9438Rs3-SuiOjqkt-H9xUsvAdC=s64",
      "userId": "15556863955443815182"
     },
     "user_tz": -330
    },
    "id": "5AtlOt7wzLLz",
    "outputId": "56328d0e-b3e6-4c7c-9421-dddd1b28573d"
   },
   "outputs": [],
   "source": [
    "item_corr_df2 = item_corr_df1.T[item_corr_df1.T.index.isin(list_items)]\n",
    "item_corr_df3 = item_corr_df2.T\n",
    "item_corr_df3"
   ]
  },
  {
   "cell_type": "markdown",
   "metadata": {
    "id": "akHTNsiEg9gB"
   },
   "source": []
  },
  {
   "cell_type": "code",
   "execution_count": null,
   "metadata": {
    "colab": {
     "base_uri": "https://localhost:8080/"
    },
    "executionInfo": {
     "elapsed": 88,
     "status": "ok",
     "timestamp": 1645902789998,
     "user": {
      "displayName": "Rizwan Ahmad",
      "photoUrl": "https://lh3.googleusercontent.com/a-/AOh14GgtPJUYELe4Sy9438Rs3-SuiOjqkt-H9xUsvAdC=s64",
      "userId": "15556863955443815182"
     },
     "user_tz": -330
    },
    "id": "vXFKWnf5zLLz",
    "outputId": "5a6138ab-696c-466d-c450-f50a4896d2a5"
   },
   "outputs": [],
   "source": [
    "item_corr_df3[item_corr_df3<0] = 0\n",
    "common_item_pred_ratings = np.dot(item_corr_df3,common_item_pivot.fillna(0))\n",
    "common_item_pred_ratings.shape"
   ]
  },
  {
   "cell_type": "code",
   "execution_count": null,
   "metadata": {
    "executionInfo": {
     "elapsed": 54,
     "status": "ok",
     "timestamp": 1645902789999,
     "user": {
      "displayName": "Rizwan Ahmad",
      "photoUrl": "https://lh3.googleusercontent.com/a-/AOh14GgtPJUYELe4Sy9438Rs3-SuiOjqkt-H9xUsvAdC=s64",
      "userId": "15556863955443815182"
     },
     "user_tz": -330
    },
    "id": "ltPbbCVRzLL0"
   },
   "outputs": [],
   "source": [
    "test_items = common_item.copy()\n"
   ]
  },
  {
   "cell_type": "code",
   "execution_count": null,
   "metadata": {
    "colab": {
     "base_uri": "https://localhost:8080/",
     "height": 988
    },
    "executionInfo": {
     "elapsed": 542,
     "status": "ok",
     "timestamp": 1645902790488,
     "user": {
      "displayName": "Rizwan Ahmad",
      "photoUrl": "https://lh3.googleusercontent.com/a-/AOh14GgtPJUYELe4Sy9438Rs3-SuiOjqkt-H9xUsvAdC=s64",
      "userId": "15556863955443815182"
     },
     "user_tz": -330
    },
    "id": "G9s9BWhDzLL0",
    "outputId": "45f78147-ddb7-452b-8cc7-d9604957ea82"
   },
   "outputs": [],
   "source": [
    "test_item_tb = test_items.pivot_table(index='reviews_username',\n",
    "                            columns='name',\n",
    "                            values='reviews_rating').T.fillna(0)\n",
    "final_item_ratings = np.multiply(common_item_pred_ratings,test_item_tb)\n",
    "final_item_ratings"
   ]
  },
  {
   "cell_type": "code",
   "execution_count": null,
   "metadata": {
    "colab": {
     "base_uri": "https://localhost:8080/"
    },
    "executionInfo": {
     "elapsed": 43,
     "status": "ok",
     "timestamp": 1645902790489,
     "user": {
      "displayName": "Rizwan Ahmad",
      "photoUrl": "https://lh3.googleusercontent.com/a-/AOh14GgtPJUYELe4Sy9438Rs3-SuiOjqkt-H9xUsvAdC=s64",
      "userId": "15556863955443815182"
     },
     "user_tz": -330
    },
    "id": "ljcL4r0dzLL0",
    "outputId": "8e8c8c0d-3d6c-43be-cd03-b9cadf8f7272"
   },
   "outputs": [],
   "source": [
    "X  = final_item_ratings.copy() \n",
    "X = X[X>0]\n",
    "\n",
    "scaler = MinMaxScaler(feature_range=(1, 5))\n",
    "print(scaler.fit(X))\n",
    "y = (scaler.transform(X))\n",
    "\n",
    "print(y)\n",
    "y.shape"
   ]
  },
  {
   "cell_type": "code",
   "execution_count": null,
   "metadata": {
    "executionInfo": {
     "elapsed": 36,
     "status": "ok",
     "timestamp": 1645902790490,
     "user": {
      "displayName": "Rizwan Ahmad",
      "photoUrl": "https://lh3.googleusercontent.com/a-/AOh14GgtPJUYELe4Sy9438Rs3-SuiOjqkt-H9xUsvAdC=s64",
      "userId": "15556863955443815182"
     },
     "user_tz": -330
    },
    "id": "Q2UtRolIzLL0"
   },
   "outputs": [],
   "source": [
    "# Finding total non-NaN value\n",
    "total_non_nan = np.count_nonzero(~np.isnan(y))"
   ]
  },
  {
   "cell_type": "code",
   "execution_count": null,
   "metadata": {
    "colab": {
     "base_uri": "https://localhost:8080/"
    },
    "executionInfo": {
     "elapsed": 36,
     "status": "ok",
     "timestamp": 1645902790491,
     "user": {
      "displayName": "Rizwan Ahmad",
      "photoUrl": "https://lh3.googleusercontent.com/a-/AOh14GgtPJUYELe4Sy9438Rs3-SuiOjqkt-H9xUsvAdC=s64",
      "userId": "15556863955443815182"
     },
     "user_tz": -330
    },
    "id": "_tAlCS4dzLL0",
    "outputId": "7563a0d1-7bbf-4cbd-aba0-bee98948e22f"
   },
   "outputs": [],
   "source": [
    "rmse = (sum(sum((common_item_pivot -  y )**2))/total_non_nan)**0.5\n",
    "print(rmse)"
   ]
  },
  {
   "cell_type": "markdown",
   "metadata": {
    "id": "7aVfcF4EzLL0"
   },
   "source": [
    "## Best suited recommendation system \n",
    "- By checking the root mean squared error for user-user and item-item recommendation systems . \n",
    "\n",
    "\n",
    "```\n",
    "User-User recommendation\n",
    "```\n",
    "\n",
    " will be used as it is having less RMSE"
   ]
  },
  {
   "cell_type": "markdown",
   "metadata": {
    "id": "sNyuXOv6g9gE"
   },
   "source": [
    "##### Final ```model.py``` attached which will recommend the top 20 products and then top 5 products based on sentiment \n",
    "##### pickle files are available in ```pickle_file``` folder\n",
    "##### ```app.py``` contains the flask deployment \n",
    "##### Heroku URL : ```https://sentimentbasedrecommendationsy.herokuapp.com/```"
   ]
  },
  {
   "cell_type": "markdown",
   "metadata": {
    "id": "poNooZ96g9gE"
   },
   "source": []
  }
 ],
 "metadata": {
  "colab": {
   "collapsed_sections": [],
   "machine_shape": "hm",
   "name": "setiment_based_product_recommendation_system_sbprs_capstone.ipynb",
   "provenance": []
  },
  "kernelspec": {
   "display_name": "Python 3 (ipykernel)",
   "language": "python",
   "name": "python3"
  },
  "language_info": {
   "codemirror_mode": {
    "name": "ipython",
    "version": 3
   },
   "file_extension": ".py",
   "mimetype": "text/x-python",
   "name": "python",
   "nbconvert_exporter": "python",
   "pygments_lexer": "ipython3",
   "version": "3.9.7"
  }
 },
 "nbformat": 4,
 "nbformat_minor": 1
}
